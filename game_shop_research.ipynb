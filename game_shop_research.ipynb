{
 "cells": [
  {
   "cell_type": "markdown",
   "metadata": {
    "toc": true
   },
   "source": [
    "<h1>Содержание<span class=\"tocSkip\"></span></h1>\n",
    "<div class=\"toc\"><ul class=\"toc-item\"><li><span><a href=\"#Введение\" data-toc-modified-id=\"Введение-1\"><span class=\"toc-item-num\">1&nbsp;&nbsp;</span>Введение</a></span></li><li><span><a href=\"#Импортируем-все-необходимое\" data-toc-modified-id=\"Импортируем-все-необходимое-2\"><span class=\"toc-item-num\">2&nbsp;&nbsp;</span>Импортируем все необходимое</a></span></li><li><span><a href=\"#Загрузим-данные\" data-toc-modified-id=\"Загрузим-данные-3\"><span class=\"toc-item-num\">3&nbsp;&nbsp;</span>Загрузим данные</a></span></li><li><span><a href=\"#Обработанные-полученные-данные\" data-toc-modified-id=\"Обработанные-полученные-данные-4\"><span class=\"toc-item-num\">4&nbsp;&nbsp;</span>Обработанные полученные данные</a></span></li><li><span><a href=\"#Проанализируем-данные\" data-toc-modified-id=\"Проанализируем-данные-5\"><span class=\"toc-item-num\">5&nbsp;&nbsp;</span>Проанализируем данные</a></span></li><li><span><a href=\"#Займемся-составлением-портрета-пользователя\" data-toc-modified-id=\"Займемся-составлением-портрета-пользователя-6\"><span class=\"toc-item-num\">6&nbsp;&nbsp;</span>Займемся составлением портрета пользователя</a></span></li><li><span><a href=\"#Проверим-гипотезы\" data-toc-modified-id=\"Проверим-гипотезы-7\"><span class=\"toc-item-num\">7&nbsp;&nbsp;</span>Проверим гипотезы</a></span><ul class=\"toc-item\"><li><span><a href=\"#Гипотеза-1\" data-toc-modified-id=\"Гипотеза-1-7.1\"><span class=\"toc-item-num\">7.1&nbsp;&nbsp;</span>Гипотеза 1</a></span><ul class=\"toc-item\"><li><span><a href=\"#Вывод\" data-toc-modified-id=\"Вывод-7.1.1\"><span class=\"toc-item-num\">7.1.1&nbsp;&nbsp;</span>Вывод</a></span></li></ul></li><li><span><a href=\"#Гипотеза-2\" data-toc-modified-id=\"Гипотеза-2-7.2\"><span class=\"toc-item-num\">7.2&nbsp;&nbsp;</span>Гипотеза 2</a></span><ul class=\"toc-item\"><li><span><a href=\"#Вывод\" data-toc-modified-id=\"Вывод-7.2.1\"><span class=\"toc-item-num\">7.2.1&nbsp;&nbsp;</span>Вывод</a></span></li></ul></li></ul></li><li><span><a href=\"#Вывод\" data-toc-modified-id=\"Вывод-8\"><span class=\"toc-item-num\">8&nbsp;&nbsp;</span>Вывод</a></span></li></ul></div>"
   ]
  },
  {
   "cell_type": "markdown",
   "metadata": {
    "colab_type": "text",
    "id": "-wdWOeS2jQl8"
   },
   "source": [
    "## Введение "
   ]
  },
  {
   "cell_type": "markdown",
   "metadata": {
    "colab_type": "text",
    "id": "Iyup2F2Vjidn"
   },
   "source": [
    "Нужно выявить определяющие успешность игры закономерности. Это позволит сделать ставку на потенциально популярный продукт и спланировать рекламные кампании."
   ]
  },
  {
   "cell_type": "markdown",
   "metadata": {
    "colab_type": "text",
    "id": "DHCk_24Pz9n1"
   },
   "source": [
    "## Импортируем все необходимое "
   ]
  },
  {
   "cell_type": "code",
   "execution_count": 1,
   "metadata": {
    "colab": {
     "base_uri": "https://localhost:8080/",
     "height": 72
    },
    "colab_type": "code",
    "id": "P6_P6-_PbG66",
    "outputId": "708fa2ee-d96c-45de-d8b8-e8cc4ceb3af6"
   },
   "outputs": [],
   "source": [
    "import pandas as pd\n",
    "import numpy as np\n",
    "import matplotlib.pyplot as plt\n",
    "import seaborn as sns\n",
    "import scipy.stats as st"
   ]
  },
  {
   "cell_type": "markdown",
   "metadata": {},
   "source": [
    "## Загрузим данные\n"
   ]
  },
  {
   "cell_type": "code",
   "execution_count": 2,
   "metadata": {
    "colab": {},
    "colab_type": "code",
    "id": "iGzx6zF9bG76"
   },
   "outputs": [],
   "source": [
    "frame = pd.read_csv('/datasets/games.csv')"
   ]
  },
  {
   "cell_type": "code",
   "execution_count": 3,
   "metadata": {
    "colab": {
     "base_uri": "https://localhost:8080/",
     "height": 291
    },
    "colab_type": "code",
    "id": "rHDto7RBbG8v",
    "outputId": "6519aacd-70c8-4e4f-a730-df3e6e8c751d"
   },
   "outputs": [
    {
     "data": {
      "text/html": [
       "<div>\n",
       "<style scoped>\n",
       "    .dataframe tbody tr th:only-of-type {\n",
       "        vertical-align: middle;\n",
       "    }\n",
       "\n",
       "    .dataframe tbody tr th {\n",
       "        vertical-align: top;\n",
       "    }\n",
       "\n",
       "    .dataframe thead th {\n",
       "        text-align: right;\n",
       "    }\n",
       "</style>\n",
       "<table border=\"1\" class=\"dataframe\">\n",
       "  <thead>\n",
       "    <tr style=\"text-align: right;\">\n",
       "      <th></th>\n",
       "      <th>Name</th>\n",
       "      <th>Platform</th>\n",
       "      <th>Year_of_Release</th>\n",
       "      <th>Genre</th>\n",
       "      <th>NA_sales</th>\n",
       "      <th>EU_sales</th>\n",
       "      <th>JP_sales</th>\n",
       "      <th>Other_sales</th>\n",
       "      <th>Critic_Score</th>\n",
       "      <th>User_Score</th>\n",
       "      <th>Rating</th>\n",
       "    </tr>\n",
       "  </thead>\n",
       "  <tbody>\n",
       "    <tr>\n",
       "      <td>0</td>\n",
       "      <td>Wii Sports</td>\n",
       "      <td>Wii</td>\n",
       "      <td>2006.0</td>\n",
       "      <td>Sports</td>\n",
       "      <td>41.36</td>\n",
       "      <td>28.96</td>\n",
       "      <td>3.77</td>\n",
       "      <td>8.45</td>\n",
       "      <td>76.0</td>\n",
       "      <td>8</td>\n",
       "      <td>E</td>\n",
       "    </tr>\n",
       "    <tr>\n",
       "      <td>1</td>\n",
       "      <td>Super Mario Bros.</td>\n",
       "      <td>NES</td>\n",
       "      <td>1985.0</td>\n",
       "      <td>Platform</td>\n",
       "      <td>29.08</td>\n",
       "      <td>3.58</td>\n",
       "      <td>6.81</td>\n",
       "      <td>0.77</td>\n",
       "      <td>NaN</td>\n",
       "      <td>NaN</td>\n",
       "      <td>NaN</td>\n",
       "    </tr>\n",
       "    <tr>\n",
       "      <td>2</td>\n",
       "      <td>Mario Kart Wii</td>\n",
       "      <td>Wii</td>\n",
       "      <td>2008.0</td>\n",
       "      <td>Racing</td>\n",
       "      <td>15.68</td>\n",
       "      <td>12.76</td>\n",
       "      <td>3.79</td>\n",
       "      <td>3.29</td>\n",
       "      <td>82.0</td>\n",
       "      <td>8.3</td>\n",
       "      <td>E</td>\n",
       "    </tr>\n",
       "    <tr>\n",
       "      <td>3</td>\n",
       "      <td>Wii Sports Resort</td>\n",
       "      <td>Wii</td>\n",
       "      <td>2009.0</td>\n",
       "      <td>Sports</td>\n",
       "      <td>15.61</td>\n",
       "      <td>10.93</td>\n",
       "      <td>3.28</td>\n",
       "      <td>2.95</td>\n",
       "      <td>80.0</td>\n",
       "      <td>8</td>\n",
       "      <td>E</td>\n",
       "    </tr>\n",
       "    <tr>\n",
       "      <td>4</td>\n",
       "      <td>Pokemon Red/Pokemon Blue</td>\n",
       "      <td>GB</td>\n",
       "      <td>1996.0</td>\n",
       "      <td>Role-Playing</td>\n",
       "      <td>11.27</td>\n",
       "      <td>8.89</td>\n",
       "      <td>10.22</td>\n",
       "      <td>1.00</td>\n",
       "      <td>NaN</td>\n",
       "      <td>NaN</td>\n",
       "      <td>NaN</td>\n",
       "    </tr>\n",
       "  </tbody>\n",
       "</table>\n",
       "</div>"
      ],
      "text/plain": [
       "                       Name Platform  Year_of_Release         Genre  NA_sales  \\\n",
       "0                Wii Sports      Wii           2006.0        Sports     41.36   \n",
       "1         Super Mario Bros.      NES           1985.0      Platform     29.08   \n",
       "2            Mario Kart Wii      Wii           2008.0        Racing     15.68   \n",
       "3         Wii Sports Resort      Wii           2009.0        Sports     15.61   \n",
       "4  Pokemon Red/Pokemon Blue       GB           1996.0  Role-Playing     11.27   \n",
       "\n",
       "   EU_sales  JP_sales  Other_sales  Critic_Score User_Score Rating  \n",
       "0     28.96      3.77         8.45          76.0          8      E  \n",
       "1      3.58      6.81         0.77           NaN        NaN    NaN  \n",
       "2     12.76      3.79         3.29          82.0        8.3      E  \n",
       "3     10.93      3.28         2.95          80.0          8      E  \n",
       "4      8.89     10.22         1.00           NaN        NaN    NaN  "
      ]
     },
     "execution_count": 3,
     "metadata": {},
     "output_type": "execute_result"
    }
   ],
   "source": [
    "frame.head()"
   ]
  },
  {
   "cell_type": "markdown",
   "metadata": {
    "colab_type": "text",
    "id": "EWgTrNZBbG-D"
   },
   "source": [
    "## Обработанные полученные данные"
   ]
  },
  {
   "cell_type": "code",
   "execution_count": 4,
   "metadata": {
    "colab": {
     "base_uri": "https://localhost:8080/",
     "height": 69
    },
    "colab_type": "code",
    "id": "zszW-nXQbG-O",
    "outputId": "ddd4bd2a-c2ac-471b-d9a5-8377c7eb536c"
   },
   "outputs": [
    {
     "data": {
      "text/plain": [
       "Index(['Name', 'Platform', 'Year_of_Release', 'Genre', 'NA_sales', 'EU_sales',\n",
       "       'JP_sales', 'Other_sales', 'Critic_Score', 'User_Score', 'Rating'],\n",
       "      dtype='object')"
      ]
     },
     "execution_count": 4,
     "metadata": {},
     "output_type": "execute_result"
    }
   ],
   "source": [
    "frame.columns"
   ]
  },
  {
   "cell_type": "markdown",
   "metadata": {
    "colab_type": "text",
    "id": "RcPguVRA0QKt"
   },
   "source": [
    "Заметим, что названия столбцов находятся в разном регистре. Исправим это"
   ]
  },
  {
   "cell_type": "code",
   "execution_count": 5,
   "metadata": {
    "colab": {},
    "colab_type": "code",
    "id": "eDxVDGrrbG-8"
   },
   "outputs": [],
   "source": [
    "frame.columns = frame.columns.str.lower()"
   ]
  },
  {
   "cell_type": "markdown",
   "metadata": {
    "colab_type": "text",
    "id": "ItN5aLwM0n7X"
   },
   "source": [
    "Так же приведем к нижнему регистру все значения их столбцов содержащих текст"
   ]
  },
  {
   "cell_type": "code",
   "execution_count": 6,
   "metadata": {
    "colab": {},
    "colab_type": "code",
    "id": "mE8G2EnS-0So"
   },
   "outputs": [],
   "source": [
    "list_to_lower = ['name','platform','genre','rating']\n",
    "for column in list_to_lower:\n",
    "    frame[column] = frame[column].str.lower()"
   ]
  },
  {
   "cell_type": "markdown",
   "metadata": {
    "colab_type": "text",
    "id": "l39AelGwbG_n"
   },
   "source": [
    "Текстовые значения данных и названия столбцов исправлены"
   ]
  },
  {
   "cell_type": "markdown",
   "metadata": {
    "colab_type": "text",
    "id": "V47to9fN05Ji"
   },
   "source": [
    "Посмотрим на информацию о данных"
   ]
  },
  {
   "cell_type": "code",
   "execution_count": 7,
   "metadata": {
    "colab": {
     "base_uri": "https://localhost:8080/",
     "height": 329
    },
    "colab_type": "code",
    "id": "JktjbXbtbG_w",
    "outputId": "9ce56824-e071-46fb-93f1-ce6070255e43",
    "scrolled": false
   },
   "outputs": [
    {
     "name": "stdout",
     "output_type": "stream",
     "text": [
      "<class 'pandas.core.frame.DataFrame'>\n",
      "RangeIndex: 16715 entries, 0 to 16714\n",
      "Data columns (total 11 columns):\n",
      "name               16713 non-null object\n",
      "platform           16715 non-null object\n",
      "year_of_release    16446 non-null float64\n",
      "genre              16713 non-null object\n",
      "na_sales           16715 non-null float64\n",
      "eu_sales           16715 non-null float64\n",
      "jp_sales           16715 non-null float64\n",
      "other_sales        16715 non-null float64\n",
      "critic_score       8137 non-null float64\n",
      "user_score         10014 non-null object\n",
      "rating             9949 non-null object\n",
      "dtypes: float64(6), object(5)\n",
      "memory usage: 1.4+ MB\n"
     ]
    }
   ],
   "source": [
    "frame.info()"
   ]
  },
  {
   "cell_type": "markdown",
   "metadata": {
    "colab_type": "text",
    "id": "X5GaP_GO08_J"
   },
   "source": [
    "В столбце 'user_score', кроме пропусков и значений содержится значения \"tbd\", которые стоит заменить на NaN, так как эта аббревиатура обозначает  \"Будет определено\" "
   ]
  },
  {
   "cell_type": "code",
   "execution_count": 8,
   "metadata": {
    "colab": {},
    "colab_type": "code",
    "id": "OJFT5fx1bHAl"
   },
   "outputs": [],
   "source": [
    "frame.loc[frame['user_score'] =='tbd','user_score'] = np.nan"
   ]
  },
  {
   "cell_type": "code",
   "execution_count": 9,
   "metadata": {
    "colab": {},
    "colab_type": "code",
    "id": "Qzzwsc22bHCV"
   },
   "outputs": [],
   "source": [
    "frame['user_score'] = frame['user_score'].astype('float')"
   ]
  },
  {
   "cell_type": "code",
   "execution_count": 10,
   "metadata": {
    "colab": {
     "base_uri": "https://localhost:8080/",
     "height": 329
    },
    "colab_type": "code",
    "id": "N_AJkab5bHDH",
    "outputId": "d4fcf849-7a54-417a-f5ba-2b6f614bfcad"
   },
   "outputs": [
    {
     "name": "stdout",
     "output_type": "stream",
     "text": [
      "<class 'pandas.core.frame.DataFrame'>\n",
      "RangeIndex: 16715 entries, 0 to 16714\n",
      "Data columns (total 11 columns):\n",
      "name               16713 non-null object\n",
      "platform           16715 non-null object\n",
      "year_of_release    16446 non-null float64\n",
      "genre              16713 non-null object\n",
      "na_sales           16715 non-null float64\n",
      "eu_sales           16715 non-null float64\n",
      "jp_sales           16715 non-null float64\n",
      "other_sales        16715 non-null float64\n",
      "critic_score       8137 non-null float64\n",
      "user_score         7590 non-null float64\n",
      "rating             9949 non-null object\n",
      "dtypes: float64(7), object(4)\n",
      "memory usage: 1.4+ MB\n"
     ]
    }
   ],
   "source": [
    "frame.info()"
   ]
  },
  {
   "cell_type": "code",
   "execution_count": 11,
   "metadata": {
    "colab": {
     "base_uri": "https://localhost:8080/",
     "height": 130
    },
    "colab_type": "code",
    "id": "TftBfJCtbHD6",
    "outputId": "03fc792e-50a7-4e12-c4e2-6843efcf25cb"
   },
   "outputs": [
    {
     "data": {
      "text/html": [
       "<div>\n",
       "<style scoped>\n",
       "    .dataframe tbody tr th:only-of-type {\n",
       "        vertical-align: middle;\n",
       "    }\n",
       "\n",
       "    .dataframe tbody tr th {\n",
       "        vertical-align: top;\n",
       "    }\n",
       "\n",
       "    .dataframe thead th {\n",
       "        text-align: right;\n",
       "    }\n",
       "</style>\n",
       "<table border=\"1\" class=\"dataframe\">\n",
       "  <thead>\n",
       "    <tr style=\"text-align: right;\">\n",
       "      <th></th>\n",
       "      <th>name</th>\n",
       "      <th>platform</th>\n",
       "      <th>year_of_release</th>\n",
       "      <th>genre</th>\n",
       "      <th>na_sales</th>\n",
       "      <th>eu_sales</th>\n",
       "      <th>jp_sales</th>\n",
       "      <th>other_sales</th>\n",
       "      <th>critic_score</th>\n",
       "      <th>user_score</th>\n",
       "      <th>rating</th>\n",
       "    </tr>\n",
       "  </thead>\n",
       "  <tbody>\n",
       "    <tr>\n",
       "      <td>659</td>\n",
       "      <td>NaN</td>\n",
       "      <td>gen</td>\n",
       "      <td>1993.0</td>\n",
       "      <td>NaN</td>\n",
       "      <td>1.78</td>\n",
       "      <td>0.53</td>\n",
       "      <td>0.00</td>\n",
       "      <td>0.08</td>\n",
       "      <td>NaN</td>\n",
       "      <td>NaN</td>\n",
       "      <td>NaN</td>\n",
       "    </tr>\n",
       "    <tr>\n",
       "      <td>14244</td>\n",
       "      <td>NaN</td>\n",
       "      <td>gen</td>\n",
       "      <td>1993.0</td>\n",
       "      <td>NaN</td>\n",
       "      <td>0.00</td>\n",
       "      <td>0.00</td>\n",
       "      <td>0.03</td>\n",
       "      <td>0.00</td>\n",
       "      <td>NaN</td>\n",
       "      <td>NaN</td>\n",
       "      <td>NaN</td>\n",
       "    </tr>\n",
       "  </tbody>\n",
       "</table>\n",
       "</div>"
      ],
      "text/plain": [
       "      name platform  year_of_release genre  na_sales  eu_sales  jp_sales  \\\n",
       "659    NaN      gen           1993.0   NaN      1.78      0.53      0.00   \n",
       "14244  NaN      gen           1993.0   NaN      0.00      0.00      0.03   \n",
       "\n",
       "       other_sales  critic_score  user_score rating  \n",
       "659           0.08           NaN         NaN    NaN  \n",
       "14244         0.00           NaN         NaN    NaN  "
      ]
     },
     "execution_count": 11,
     "metadata": {},
     "output_type": "execute_result"
    }
   ],
   "source": [
    "frame[frame['name'].isnull()]"
   ]
  },
  {
   "cell_type": "markdown",
   "metadata": {
    "colab_type": "text",
    "id": "onTPRIIVbHEt"
   },
   "source": [
    "Данных в этих строчках практически нет, поэтому их удаление не нанесет ущерба дальнейшему анализу"
   ]
  },
  {
   "cell_type": "code",
   "execution_count": 12,
   "metadata": {
    "colab": {},
    "colab_type": "code",
    "id": "fEDCVuwybHE2"
   },
   "outputs": [],
   "source": [
    "frame = frame.dropna(subset = ['name'])"
   ]
  },
  {
   "cell_type": "markdown",
   "metadata": {},
   "source": [
    "Изучим пропуски в 'year_of_release'"
   ]
  },
  {
   "cell_type": "code",
   "execution_count": 13,
   "metadata": {
    "colab": {
     "base_uri": "https://localhost:8080/",
     "height": 361
    },
    "colab_type": "code",
    "id": "CtTWWrtSbHGl",
    "outputId": "c254beb1-fdf3-4855-dd14-ea8c928b8861",
    "scrolled": true
   },
   "outputs": [
    {
     "data": {
      "text/html": [
       "<div>\n",
       "<style scoped>\n",
       "    .dataframe tbody tr th:only-of-type {\n",
       "        vertical-align: middle;\n",
       "    }\n",
       "\n",
       "    .dataframe tbody tr th {\n",
       "        vertical-align: top;\n",
       "    }\n",
       "\n",
       "    .dataframe thead th {\n",
       "        text-align: right;\n",
       "    }\n",
       "</style>\n",
       "<table border=\"1\" class=\"dataframe\">\n",
       "  <thead>\n",
       "    <tr style=\"text-align: right;\">\n",
       "      <th></th>\n",
       "      <th>name</th>\n",
       "      <th>platform</th>\n",
       "      <th>year_of_release</th>\n",
       "      <th>genre</th>\n",
       "      <th>na_sales</th>\n",
       "      <th>eu_sales</th>\n",
       "      <th>jp_sales</th>\n",
       "      <th>other_sales</th>\n",
       "      <th>critic_score</th>\n",
       "      <th>user_score</th>\n",
       "      <th>rating</th>\n",
       "    </tr>\n",
       "  </thead>\n",
       "  <tbody>\n",
       "    <tr>\n",
       "      <td>183</td>\n",
       "      <td>madden nfl 2004</td>\n",
       "      <td>ps2</td>\n",
       "      <td>NaN</td>\n",
       "      <td>sports</td>\n",
       "      <td>4.26</td>\n",
       "      <td>0.26</td>\n",
       "      <td>0.01</td>\n",
       "      <td>0.71</td>\n",
       "      <td>94.0</td>\n",
       "      <td>8.5</td>\n",
       "      <td>e</td>\n",
       "    </tr>\n",
       "    <tr>\n",
       "      <td>377</td>\n",
       "      <td>fifa soccer 2004</td>\n",
       "      <td>ps2</td>\n",
       "      <td>NaN</td>\n",
       "      <td>sports</td>\n",
       "      <td>0.59</td>\n",
       "      <td>2.36</td>\n",
       "      <td>0.04</td>\n",
       "      <td>0.51</td>\n",
       "      <td>84.0</td>\n",
       "      <td>6.4</td>\n",
       "      <td>e</td>\n",
       "    </tr>\n",
       "    <tr>\n",
       "      <td>456</td>\n",
       "      <td>lego batman: the videogame</td>\n",
       "      <td>wii</td>\n",
       "      <td>NaN</td>\n",
       "      <td>action</td>\n",
       "      <td>1.80</td>\n",
       "      <td>0.97</td>\n",
       "      <td>0.00</td>\n",
       "      <td>0.29</td>\n",
       "      <td>74.0</td>\n",
       "      <td>7.9</td>\n",
       "      <td>e10+</td>\n",
       "    </tr>\n",
       "    <tr>\n",
       "      <td>475</td>\n",
       "      <td>wwe smackdown vs. raw 2006</td>\n",
       "      <td>ps2</td>\n",
       "      <td>NaN</td>\n",
       "      <td>fighting</td>\n",
       "      <td>1.57</td>\n",
       "      <td>1.02</td>\n",
       "      <td>0.00</td>\n",
       "      <td>0.41</td>\n",
       "      <td>NaN</td>\n",
       "      <td>NaN</td>\n",
       "      <td>NaN</td>\n",
       "    </tr>\n",
       "    <tr>\n",
       "      <td>609</td>\n",
       "      <td>space invaders</td>\n",
       "      <td>2600</td>\n",
       "      <td>NaN</td>\n",
       "      <td>shooter</td>\n",
       "      <td>2.36</td>\n",
       "      <td>0.14</td>\n",
       "      <td>0.00</td>\n",
       "      <td>0.03</td>\n",
       "      <td>NaN</td>\n",
       "      <td>NaN</td>\n",
       "      <td>NaN</td>\n",
       "    </tr>\n",
       "  </tbody>\n",
       "</table>\n",
       "</div>"
      ],
      "text/plain": [
       "                           name platform  year_of_release     genre  na_sales  \\\n",
       "183             madden nfl 2004      ps2              NaN    sports      4.26   \n",
       "377            fifa soccer 2004      ps2              NaN    sports      0.59   \n",
       "456  lego batman: the videogame      wii              NaN    action      1.80   \n",
       "475  wwe smackdown vs. raw 2006      ps2              NaN  fighting      1.57   \n",
       "609              space invaders     2600              NaN   shooter      2.36   \n",
       "\n",
       "     eu_sales  jp_sales  other_sales  critic_score  user_score rating  \n",
       "183      0.26      0.01         0.71          94.0         8.5      e  \n",
       "377      2.36      0.04         0.51          84.0         6.4      e  \n",
       "456      0.97      0.00         0.29          74.0         7.9   e10+  \n",
       "475      1.02      0.00         0.41           NaN         NaN    NaN  \n",
       "609      0.14      0.00         0.03           NaN         NaN    NaN  "
      ]
     },
     "execution_count": 13,
     "metadata": {},
     "output_type": "execute_result"
    }
   ],
   "source": [
    "frame[frame['year_of_release'].isnull()].head()"
   ]
  },
  {
   "cell_type": "markdown",
   "metadata": {},
   "source": [
    "Их тоже очень мало, поэтому поступим с ними также как и с пропусками в 'user_score'"
   ]
  },
  {
   "cell_type": "code",
   "execution_count": 14,
   "metadata": {
    "colab": {},
    "colab_type": "code",
    "id": "GYNxpgvmbHHb"
   },
   "outputs": [],
   "source": [
    "frame = frame.dropna(subset = ['year_of_release'])"
   ]
  },
  {
   "cell_type": "code",
   "execution_count": 15,
   "metadata": {
    "colab": {
     "base_uri": "https://localhost:8080/",
     "height": 274
    },
    "colab_type": "code",
    "id": "VjIeivYzbHIo",
    "outputId": "98dd0750-d6c9-4a89-d520-6bac2ee0e4da",
    "scrolled": false
   },
   "outputs": [
    {
     "data": {
      "text/html": [
       "<div>\n",
       "<style scoped>\n",
       "    .dataframe tbody tr th:only-of-type {\n",
       "        vertical-align: middle;\n",
       "    }\n",
       "\n",
       "    .dataframe tbody tr th {\n",
       "        vertical-align: top;\n",
       "    }\n",
       "\n",
       "    .dataframe thead th {\n",
       "        text-align: right;\n",
       "    }\n",
       "</style>\n",
       "<table border=\"1\" class=\"dataframe\">\n",
       "  <thead>\n",
       "    <tr style=\"text-align: right;\">\n",
       "      <th></th>\n",
       "      <th>name</th>\n",
       "      <th>platform</th>\n",
       "      <th>year_of_release</th>\n",
       "      <th>genre</th>\n",
       "      <th>na_sales</th>\n",
       "      <th>eu_sales</th>\n",
       "      <th>jp_sales</th>\n",
       "      <th>other_sales</th>\n",
       "      <th>critic_score</th>\n",
       "      <th>user_score</th>\n",
       "      <th>rating</th>\n",
       "    </tr>\n",
       "  </thead>\n",
       "  <tbody>\n",
       "    <tr>\n",
       "      <td>1</td>\n",
       "      <td>super mario bros.</td>\n",
       "      <td>nes</td>\n",
       "      <td>1985.0</td>\n",
       "      <td>platform</td>\n",
       "      <td>29.08</td>\n",
       "      <td>3.58</td>\n",
       "      <td>6.81</td>\n",
       "      <td>0.77</td>\n",
       "      <td>NaN</td>\n",
       "      <td>NaN</td>\n",
       "      <td>NaN</td>\n",
       "    </tr>\n",
       "    <tr>\n",
       "      <td>4</td>\n",
       "      <td>pokemon red/pokemon blue</td>\n",
       "      <td>gb</td>\n",
       "      <td>1996.0</td>\n",
       "      <td>role-playing</td>\n",
       "      <td>11.27</td>\n",
       "      <td>8.89</td>\n",
       "      <td>10.22</td>\n",
       "      <td>1.00</td>\n",
       "      <td>NaN</td>\n",
       "      <td>NaN</td>\n",
       "      <td>NaN</td>\n",
       "    </tr>\n",
       "    <tr>\n",
       "      <td>5</td>\n",
       "      <td>tetris</td>\n",
       "      <td>gb</td>\n",
       "      <td>1989.0</td>\n",
       "      <td>puzzle</td>\n",
       "      <td>23.20</td>\n",
       "      <td>2.26</td>\n",
       "      <td>4.22</td>\n",
       "      <td>0.58</td>\n",
       "      <td>NaN</td>\n",
       "      <td>NaN</td>\n",
       "      <td>NaN</td>\n",
       "    </tr>\n",
       "    <tr>\n",
       "      <td>9</td>\n",
       "      <td>duck hunt</td>\n",
       "      <td>nes</td>\n",
       "      <td>1984.0</td>\n",
       "      <td>shooter</td>\n",
       "      <td>26.93</td>\n",
       "      <td>0.63</td>\n",
       "      <td>0.28</td>\n",
       "      <td>0.47</td>\n",
       "      <td>NaN</td>\n",
       "      <td>NaN</td>\n",
       "      <td>NaN</td>\n",
       "    </tr>\n",
       "    <tr>\n",
       "      <td>10</td>\n",
       "      <td>nintendogs</td>\n",
       "      <td>ds</td>\n",
       "      <td>2005.0</td>\n",
       "      <td>simulation</td>\n",
       "      <td>9.05</td>\n",
       "      <td>10.95</td>\n",
       "      <td>1.93</td>\n",
       "      <td>2.74</td>\n",
       "      <td>NaN</td>\n",
       "      <td>NaN</td>\n",
       "      <td>NaN</td>\n",
       "    </tr>\n",
       "  </tbody>\n",
       "</table>\n",
       "</div>"
      ],
      "text/plain": [
       "                        name platform  year_of_release         genre  \\\n",
       "1          super mario bros.      nes           1985.0      platform   \n",
       "4   pokemon red/pokemon blue       gb           1996.0  role-playing   \n",
       "5                     tetris       gb           1989.0        puzzle   \n",
       "9                  duck hunt      nes           1984.0       shooter   \n",
       "10                nintendogs       ds           2005.0    simulation   \n",
       "\n",
       "    na_sales  eu_sales  jp_sales  other_sales  critic_score  user_score rating  \n",
       "1      29.08      3.58      6.81         0.77           NaN         NaN    NaN  \n",
       "4      11.27      8.89     10.22         1.00           NaN         NaN    NaN  \n",
       "5      23.20      2.26      4.22         0.58           NaN         NaN    NaN  \n",
       "9      26.93      0.63      0.28         0.47           NaN         NaN    NaN  \n",
       "10      9.05     10.95      1.93         2.74           NaN         NaN    NaN  "
      ]
     },
     "execution_count": 15,
     "metadata": {},
     "output_type": "execute_result"
    }
   ],
   "source": [
    "frame[frame['critic_score'].isnull()].head()"
   ]
  },
  {
   "cell_type": "markdown",
   "metadata": {},
   "source": [
    "Создадим Сводную таблицу отражающую медианную оценку пользователей и критиков по каждому жанру"
   ]
  },
  {
   "cell_type": "code",
   "execution_count": 16,
   "metadata": {
    "colab": {},
    "colab_type": "code",
    "id": "15UEU6srbHJt"
   },
   "outputs": [],
   "source": [
    "genre_pivot_table = frame.pivot_table(index = 'genre', values = [\"critic_score\",\"user_score\"], aggfunc = ['median'])"
   ]
  },
  {
   "cell_type": "code",
   "execution_count": 17,
   "metadata": {
    "colab": {},
    "colab_type": "code",
    "id": "UkiZfgFYbHKb"
   },
   "outputs": [],
   "source": [
    "genre_pivot_table = frame.pivot_table(index = 'genre', values = [\"critic_score\",\"user_score\"], aggfunc = ['median'])\n",
    "genre_pivot_table.columns = ['critic_score','user_score']"
   ]
  },
  {
   "cell_type": "markdown",
   "metadata": {
    "colab_type": "text",
    "id": "TIMFVpTA6dSu"
   },
   "source": [
    "Заменим пропуски в rating на rp, что расшифровывается как «Рейтинг ожидается»"
   ]
  },
  {
   "cell_type": "code",
   "execution_count": 19,
   "metadata": {
    "colab": {},
    "colab_type": "code",
    "id": "83gasl8tCKuj"
   },
   "outputs": [],
   "source": [
    "frame.loc[frame.loc[:,'rating'].isnull(),'rating'] = 'rp'"
   ]
  },
  {
   "cell_type": "markdown",
   "metadata": {
    "colab_type": "text",
    "id": "BTHwv7Ms7E23"
   },
   "source": [
    "Проверим наличие дубликатов"
   ]
  },
  {
   "cell_type": "code",
   "execution_count": 20,
   "metadata": {
    "colab": {
     "base_uri": "https://localhost:8080/",
     "height": 35
    },
    "colab_type": "code",
    "id": "M4t2btwsIeav",
    "outputId": "edb9b664-2385-4fb7-de82-3fb57c085018"
   },
   "outputs": [
    {
     "data": {
      "text/plain": [
       "0"
      ]
     },
     "execution_count": 20,
     "metadata": {},
     "output_type": "execute_result"
    }
   ],
   "source": [
    "frame.duplicated().sum()"
   ]
  },
  {
   "cell_type": "markdown",
   "metadata": {
    "colab_type": "text",
    "id": "VUMEjKR27QRa"
   },
   "source": [
    "Создадим столбец, отвечающий за общие продажи"
   ]
  },
  {
   "cell_type": "code",
   "execution_count": 21,
   "metadata": {
    "colab": {},
    "colab_type": "code",
    "id": "9TmPusOxI4TL"
   },
   "outputs": [],
   "source": [
    "frame['total_sales'] = frame.apply(lambda row: sum(row[['na_sales','eu_sales','jp_sales','other_sales']]),axis =1)"
   ]
  },
  {
   "cell_type": "markdown",
   "metadata": {
    "colab_type": "text",
    "id": "uwt9R_oU7dOL"
   },
   "source": [
    "Заметим, что в некоторых столбца присутствуют аномальные значения, обработаем их функцией удаления выбросов"
   ]
  },
  {
   "cell_type": "code",
   "execution_count": 22,
   "metadata": {
    "colab": {
     "base_uri": "https://localhost:8080/",
     "height": 314
    },
    "colab_type": "code",
    "id": "a3ebwXHKSBJl",
    "outputId": "76bdf782-e9cf-4897-c738-baf602cee1cc"
   },
   "outputs": [
    {
     "data": {
      "text/html": [
       "<div>\n",
       "<style scoped>\n",
       "    .dataframe tbody tr th:only-of-type {\n",
       "        vertical-align: middle;\n",
       "    }\n",
       "\n",
       "    .dataframe tbody tr th {\n",
       "        vertical-align: top;\n",
       "    }\n",
       "\n",
       "    .dataframe thead th {\n",
       "        text-align: right;\n",
       "    }\n",
       "</style>\n",
       "<table border=\"1\" class=\"dataframe\">\n",
       "  <thead>\n",
       "    <tr style=\"text-align: right;\">\n",
       "      <th></th>\n",
       "      <th>year_of_release</th>\n",
       "      <th>na_sales</th>\n",
       "      <th>eu_sales</th>\n",
       "      <th>jp_sales</th>\n",
       "      <th>other_sales</th>\n",
       "      <th>critic_score</th>\n",
       "      <th>user_score</th>\n",
       "      <th>total_sales</th>\n",
       "    </tr>\n",
       "  </thead>\n",
       "  <tbody>\n",
       "    <tr>\n",
       "      <td>count</td>\n",
       "      <td>16444.000000</td>\n",
       "      <td>16444.000000</td>\n",
       "      <td>16444.000000</td>\n",
       "      <td>16444.000000</td>\n",
       "      <td>16444.000000</td>\n",
       "      <td>7983.000000</td>\n",
       "      <td>7463.000000</td>\n",
       "      <td>16444.000000</td>\n",
       "    </tr>\n",
       "    <tr>\n",
       "      <td>mean</td>\n",
       "      <td>2006.486256</td>\n",
       "      <td>0.264012</td>\n",
       "      <td>0.145930</td>\n",
       "      <td>0.078487</td>\n",
       "      <td>0.047594</td>\n",
       "      <td>68.994363</td>\n",
       "      <td>7.126330</td>\n",
       "      <td>0.536023</td>\n",
       "    </tr>\n",
       "    <tr>\n",
       "      <td>std</td>\n",
       "      <td>5.875525</td>\n",
       "      <td>0.818378</td>\n",
       "      <td>0.506716</td>\n",
       "      <td>0.311100</td>\n",
       "      <td>0.188005</td>\n",
       "      <td>13.920060</td>\n",
       "      <td>1.499447</td>\n",
       "      <td>1.558786</td>\n",
       "    </tr>\n",
       "    <tr>\n",
       "      <td>min</td>\n",
       "      <td>1980.000000</td>\n",
       "      <td>0.000000</td>\n",
       "      <td>0.000000</td>\n",
       "      <td>0.000000</td>\n",
       "      <td>0.000000</td>\n",
       "      <td>13.000000</td>\n",
       "      <td>0.000000</td>\n",
       "      <td>0.000000</td>\n",
       "    </tr>\n",
       "    <tr>\n",
       "      <td>25%</td>\n",
       "      <td>2003.000000</td>\n",
       "      <td>0.000000</td>\n",
       "      <td>0.000000</td>\n",
       "      <td>0.000000</td>\n",
       "      <td>0.000000</td>\n",
       "      <td>60.000000</td>\n",
       "      <td>6.400000</td>\n",
       "      <td>0.060000</td>\n",
       "    </tr>\n",
       "    <tr>\n",
       "      <td>50%</td>\n",
       "      <td>2007.000000</td>\n",
       "      <td>0.080000</td>\n",
       "      <td>0.020000</td>\n",
       "      <td>0.000000</td>\n",
       "      <td>0.010000</td>\n",
       "      <td>71.000000</td>\n",
       "      <td>7.500000</td>\n",
       "      <td>0.170000</td>\n",
       "    </tr>\n",
       "    <tr>\n",
       "      <td>75%</td>\n",
       "      <td>2010.000000</td>\n",
       "      <td>0.240000</td>\n",
       "      <td>0.110000</td>\n",
       "      <td>0.040000</td>\n",
       "      <td>0.030000</td>\n",
       "      <td>79.000000</td>\n",
       "      <td>8.200000</td>\n",
       "      <td>0.470000</td>\n",
       "    </tr>\n",
       "    <tr>\n",
       "      <td>max</td>\n",
       "      <td>2016.000000</td>\n",
       "      <td>41.360000</td>\n",
       "      <td>28.960000</td>\n",
       "      <td>10.220000</td>\n",
       "      <td>10.570000</td>\n",
       "      <td>98.000000</td>\n",
       "      <td>9.700000</td>\n",
       "      <td>82.540000</td>\n",
       "    </tr>\n",
       "  </tbody>\n",
       "</table>\n",
       "</div>"
      ],
      "text/plain": [
       "       year_of_release      na_sales      eu_sales      jp_sales  \\\n",
       "count     16444.000000  16444.000000  16444.000000  16444.000000   \n",
       "mean       2006.486256      0.264012      0.145930      0.078487   \n",
       "std           5.875525      0.818378      0.506716      0.311100   \n",
       "min        1980.000000      0.000000      0.000000      0.000000   \n",
       "25%        2003.000000      0.000000      0.000000      0.000000   \n",
       "50%        2007.000000      0.080000      0.020000      0.000000   \n",
       "75%        2010.000000      0.240000      0.110000      0.040000   \n",
       "max        2016.000000     41.360000     28.960000     10.220000   \n",
       "\n",
       "        other_sales  critic_score   user_score   total_sales  \n",
       "count  16444.000000   7983.000000  7463.000000  16444.000000  \n",
       "mean       0.047594     68.994363     7.126330      0.536023  \n",
       "std        0.188005     13.920060     1.499447      1.558786  \n",
       "min        0.000000     13.000000     0.000000      0.000000  \n",
       "25%        0.000000     60.000000     6.400000      0.060000  \n",
       "50%        0.010000     71.000000     7.500000      0.170000  \n",
       "75%        0.030000     79.000000     8.200000      0.470000  \n",
       "max       10.570000     98.000000     9.700000     82.540000  "
      ]
     },
     "execution_count": 22,
     "metadata": {},
     "output_type": "execute_result"
    }
   ],
   "source": [
    "frame.describe()"
   ]
  },
  {
   "cell_type": "markdown",
   "metadata": {
    "colab_type": "text",
    "id": "JFgvO8daMSFO"
   },
   "source": [
    "## Проанализируем данные"
   ]
  },
  {
   "cell_type": "code",
   "execution_count": 26,
   "metadata": {
    "colab": {},
    "colab_type": "code",
    "id": "coGc69xsNIeN"
   },
   "outputs": [],
   "source": [
    "years_groupby = frame.groupby('year_of_release').agg({'name':'count'})"
   ]
  },
  {
   "cell_type": "code",
   "execution_count": 27,
   "metadata": {
    "colab": {
     "base_uri": "https://localhost:8080/",
     "height": 382
    },
    "colab_type": "code",
    "id": "avPiHAtqNKCi",
    "outputId": "712553eb-ea66-4ff9-a666-9f8601b01d62"
   },
   "outputs": [
    {
     "data": {
      "image/png": "[encoded data removed]",
      "text/plain": [
       "<Figure size 1800x720 with 1 Axes>"
      ]
     },
     "metadata": {},
     "output_type": "display_data"
    }
   ],
   "source": [
    "with plt.style.context('dark_background'):\n",
    "    years_groupby.loc[1992:].plot(y = 'name', kind= 'bar', figsize = (25,10), color = 'w')"
   ]
  },
  {
   "cell_type": "markdown",
   "metadata": {
    "colab_type": "text",
    "id": "i_IK8XhP8nJa"
   },
   "source": [
    "Заметим, что больше всего игр было выпущено в период с 2005 по 2011 год"
   ]
  },
  {
   "cell_type": "markdown",
   "metadata": {
    "colab_type": "text",
    "id": "JQfK3XhkmED5"
   },
   "source": [
    "Получим топ-10 популярных платформ"
   ]
  },
  {
   "cell_type": "code",
   "execution_count": 28,
   "metadata": {
    "colab": {},
    "colab_type": "code",
    "id": "29I8WZ33lN5u"
   },
   "outputs": [],
   "source": [
    "top10_platforms = frame.groupby('platform').agg({'total_sales':'sum'}).sort_values(by = 'total_sales', ascending = False)[:10].index"
   ]
  },
  {
   "cell_type": "code",
   "execution_count": 29,
   "metadata": {
    "colab": {},
    "colab_type": "code",
    "id": "HjPbJ8mqnRfB"
   },
   "outputs": [],
   "source": [
    "platform_pivot_table_years = frame.pivot_table(index=['platform','year_of_release'], values = 'total_sales', aggfunc = 'sum')"
   ]
  },
  {
   "cell_type": "code",
   "execution_count": 30,
   "metadata": {
    "colab": {},
    "colab_type": "code",
    "id": "1l2HyLhUpDA2"
   },
   "outputs": [],
   "source": [
    "platform_pivot_table_years['years'] =  platform_pivot_table_years.index\n",
    "platform_pivot_table_years['years'] = platform_pivot_table_years['years'].apply (lambda row: row[1]).astype('int')"
   ]
  },
  {
   "cell_type": "code",
   "execution_count": 31,
   "metadata": {
    "colab": {
     "base_uri": "https://localhost:8080/",
     "height": 446
    },
    "colab_type": "code",
    "id": "2ICRLW9Eu6ZG",
    "outputId": "50fcf7c6-132f-4f16-a1d7-a42dff28cfe3"
   },
   "outputs": [
    {
     "data": {
      "text/html": [
       "<div>\n",
       "<style scoped>\n",
       "    .dataframe tbody tr th:only-of-type {\n",
       "        vertical-align: middle;\n",
       "    }\n",
       "\n",
       "    .dataframe tbody tr th {\n",
       "        vertical-align: top;\n",
       "    }\n",
       "\n",
       "    .dataframe thead th {\n",
       "        text-align: right;\n",
       "    }\n",
       "</style>\n",
       "<table border=\"1\" class=\"dataframe\">\n",
       "  <thead>\n",
       "    <tr style=\"text-align: right;\">\n",
       "      <th></th>\n",
       "      <th></th>\n",
       "      <th>total_sales</th>\n",
       "      <th>years</th>\n",
       "    </tr>\n",
       "    <tr>\n",
       "      <th>platform</th>\n",
       "      <th>year_of_release</th>\n",
       "      <th></th>\n",
       "      <th></th>\n",
       "    </tr>\n",
       "  </thead>\n",
       "  <tbody>\n",
       "    <tr>\n",
       "      <td rowspan=\"5\" valign=\"top\">2600</td>\n",
       "      <td>1980.0</td>\n",
       "      <td>11.38</td>\n",
       "      <td>1980</td>\n",
       "    </tr>\n",
       "    <tr>\n",
       "      <td>1981.0</td>\n",
       "      <td>35.68</td>\n",
       "      <td>1981</td>\n",
       "    </tr>\n",
       "    <tr>\n",
       "      <td>1982.0</td>\n",
       "      <td>28.88</td>\n",
       "      <td>1982</td>\n",
       "    </tr>\n",
       "    <tr>\n",
       "      <td>1983.0</td>\n",
       "      <td>5.84</td>\n",
       "      <td>1983</td>\n",
       "    </tr>\n",
       "    <tr>\n",
       "      <td>1984.0</td>\n",
       "      <td>0.27</td>\n",
       "      <td>1984</td>\n",
       "    </tr>\n",
       "    <tr>\n",
       "      <td>...</td>\n",
       "      <td>...</td>\n",
       "      <td>...</td>\n",
       "      <td>...</td>\n",
       "    </tr>\n",
       "    <tr>\n",
       "      <td>xb</td>\n",
       "      <td>2008.0</td>\n",
       "      <td>0.18</td>\n",
       "      <td>2008</td>\n",
       "    </tr>\n",
       "    <tr>\n",
       "      <td rowspan=\"4\" valign=\"top\">xone</td>\n",
       "      <td>2013.0</td>\n",
       "      <td>18.96</td>\n",
       "      <td>2013</td>\n",
       "    </tr>\n",
       "    <tr>\n",
       "      <td>2014.0</td>\n",
       "      <td>54.07</td>\n",
       "      <td>2014</td>\n",
       "    </tr>\n",
       "    <tr>\n",
       "      <td>2015.0</td>\n",
       "      <td>60.14</td>\n",
       "      <td>2015</td>\n",
       "    </tr>\n",
       "    <tr>\n",
       "      <td>2016.0</td>\n",
       "      <td>26.15</td>\n",
       "      <td>2016</td>\n",
       "    </tr>\n",
       "  </tbody>\n",
       "</table>\n",
       "<p>238 rows × 2 columns</p>\n",
       "</div>"
      ],
      "text/plain": [
       "                          total_sales  years\n",
       "platform year_of_release                    \n",
       "2600     1980.0                 11.38   1980\n",
       "         1981.0                 35.68   1981\n",
       "         1982.0                 28.88   1982\n",
       "         1983.0                  5.84   1983\n",
       "         1984.0                  0.27   1984\n",
       "...                               ...    ...\n",
       "xb       2008.0                  0.18   2008\n",
       "xone     2013.0                 18.96   2013\n",
       "         2014.0                 54.07   2014\n",
       "         2015.0                 60.14   2015\n",
       "         2016.0                 26.15   2016\n",
       "\n",
       "[238 rows x 2 columns]"
      ]
     },
     "execution_count": 31,
     "metadata": {},
     "output_type": "execute_result"
    }
   ],
   "source": [
    "platform_pivot_table_years"
   ]
  },
  {
   "cell_type": "code",
   "execution_count": 32,
   "metadata": {
    "colab": {
     "base_uri": "https://localhost:8080/",
     "height": 287
    },
    "colab_type": "code",
    "id": "eYV1y9CBqvg5",
    "outputId": "272ceaec-e863-4fb9-adba-13467a45d122"
   },
   "outputs": [
    {
     "data": {
      "image/png": "[encoded data removed]",
      "text/plain": [
       "<Figure size 720x360 with 1 Axes>"
      ]
     },
     "metadata": {
      "needs_background": "light"
     },
     "output_type": "display_data"
    }
   ],
   "source": [
    "fig, ax = plt.subplots(figsize =(10,5))\n",
    "for platform in top10_platforms:\n",
    "    platform_pivot_table_years.loc[platform].plot('years','total_sales', ax=ax)\n",
    "ax.legend(top10_platforms,prop = {'size':10})\n",
    "ax.set_xlim([2000,2017])\n",
    "ax.set_xticks(np.arange(2000,2017))\n",
    "ax.set_xticklabels(range(2000,2017))\n",
    "plt.show()"
   ]
  },
  {
   "cell_type": "markdown",
   "metadata": {
    "colab_type": "text",
    "id": "wxH-o7PIH_Da"
   },
   "source": [
    "По графику видно, что актуальным периодом можно назвать промежуток между 2013 и 2016 годом"
   ]
  },
  {
   "cell_type": "markdown",
   "metadata": {
    "colab_type": "text",
    "id": "r6LieRk3gHyt"
   },
   "source": [
    "На графике отчетливо видно, что в среднем платформы живут 10-11 лет и начиная с 2006 года новые платформы появляются каждые год, а в некоторый случаях и 2 платформы за 1 год"
   ]
  },
  {
   "cell_type": "markdown",
   "metadata": {},
   "source": [
    "Выделим актуальный период"
   ]
  },
  {
   "cell_type": "code",
   "execution_count": 33,
   "metadata": {
    "colab": {},
    "colab_type": "code",
    "id": "Y-_tT4iMimod"
   },
   "outputs": [],
   "source": [
    "period = (2013, 2016)\n",
    "actual_frame = frame.query('@period[0] <= year_of_release <= @period[1]') "
   ]
  },
  {
   "cell_type": "code",
   "execution_count": 34,
   "metadata": {
    "scrolled": true
   },
   "outputs": [
    {
     "name": "stderr",
     "output_type": "stream",
     "text": [
      "/opt/conda/lib/python3.7/site-packages/ipykernel_launcher.py:1: SettingWithCopyWarning: \n",
      "A value is trying to be set on a copy of a slice from a DataFrame.\n",
      "Try using .loc[row_indexer,col_indexer] = value instead\n",
      "\n",
      "See the caveats in the documentation: http://pandas.pydata.org/pandas-docs/stable/user_guide/indexing.html#returning-a-view-versus-a-copy\n",
      "  \"\"\"Entry point for launching an IPython kernel.\n"
     ]
    }
   ],
   "source": [
    "actual_frame['year_of_release'] = actual_frame['year_of_release'].astype('int')"
   ]
  },
  {
   "cell_type": "code",
   "execution_count": 35,
   "metadata": {},
   "outputs": [
    {
     "data": {
      "text/html": [
       "<div>\n",
       "<style scoped>\n",
       "    .dataframe tbody tr th:only-of-type {\n",
       "        vertical-align: middle;\n",
       "    }\n",
       "\n",
       "    .dataframe tbody tr th {\n",
       "        vertical-align: top;\n",
       "    }\n",
       "\n",
       "    .dataframe thead th {\n",
       "        text-align: right;\n",
       "    }\n",
       "</style>\n",
       "<table border=\"1\" class=\"dataframe\">\n",
       "  <thead>\n",
       "    <tr style=\"text-align: right;\">\n",
       "      <th></th>\n",
       "      <th>name</th>\n",
       "      <th>platform</th>\n",
       "      <th>year_of_release</th>\n",
       "      <th>genre</th>\n",
       "      <th>na_sales</th>\n",
       "      <th>eu_sales</th>\n",
       "      <th>jp_sales</th>\n",
       "      <th>other_sales</th>\n",
       "      <th>critic_score</th>\n",
       "      <th>user_score</th>\n",
       "      <th>rating</th>\n",
       "      <th>total_sales</th>\n",
       "    </tr>\n",
       "  </thead>\n",
       "  <tbody>\n",
       "    <tr>\n",
       "      <td>16</td>\n",
       "      <td>grand theft auto v</td>\n",
       "      <td>ps3</td>\n",
       "      <td>2013</td>\n",
       "      <td>action</td>\n",
       "      <td>7.02</td>\n",
       "      <td>9.09</td>\n",
       "      <td>0.98</td>\n",
       "      <td>3.96</td>\n",
       "      <td>97.0</td>\n",
       "      <td>8.2</td>\n",
       "      <td>m</td>\n",
       "      <td>21.05</td>\n",
       "    </tr>\n",
       "    <tr>\n",
       "      <td>23</td>\n",
       "      <td>grand theft auto v</td>\n",
       "      <td>x360</td>\n",
       "      <td>2013</td>\n",
       "      <td>action</td>\n",
       "      <td>9.66</td>\n",
       "      <td>5.14</td>\n",
       "      <td>0.06</td>\n",
       "      <td>1.41</td>\n",
       "      <td>97.0</td>\n",
       "      <td>8.1</td>\n",
       "      <td>m</td>\n",
       "      <td>16.27</td>\n",
       "    </tr>\n",
       "    <tr>\n",
       "      <td>31</td>\n",
       "      <td>call of duty: black ops 3</td>\n",
       "      <td>ps4</td>\n",
       "      <td>2015</td>\n",
       "      <td>shooter</td>\n",
       "      <td>6.03</td>\n",
       "      <td>5.86</td>\n",
       "      <td>0.36</td>\n",
       "      <td>2.38</td>\n",
       "      <td>NaN</td>\n",
       "      <td>NaN</td>\n",
       "      <td>rp</td>\n",
       "      <td>14.63</td>\n",
       "    </tr>\n",
       "    <tr>\n",
       "      <td>33</td>\n",
       "      <td>pokemon x/pokemon y</td>\n",
       "      <td>3ds</td>\n",
       "      <td>2013</td>\n",
       "      <td>role-playing</td>\n",
       "      <td>5.28</td>\n",
       "      <td>4.19</td>\n",
       "      <td>4.35</td>\n",
       "      <td>0.78</td>\n",
       "      <td>NaN</td>\n",
       "      <td>NaN</td>\n",
       "      <td>rp</td>\n",
       "      <td>14.60</td>\n",
       "    </tr>\n",
       "    <tr>\n",
       "      <td>42</td>\n",
       "      <td>grand theft auto v</td>\n",
       "      <td>ps4</td>\n",
       "      <td>2014</td>\n",
       "      <td>action</td>\n",
       "      <td>3.96</td>\n",
       "      <td>6.31</td>\n",
       "      <td>0.38</td>\n",
       "      <td>1.97</td>\n",
       "      <td>97.0</td>\n",
       "      <td>8.3</td>\n",
       "      <td>m</td>\n",
       "      <td>12.62</td>\n",
       "    </tr>\n",
       "  </tbody>\n",
       "</table>\n",
       "</div>"
      ],
      "text/plain": [
       "                         name platform  year_of_release         genre  \\\n",
       "16         grand theft auto v      ps3             2013        action   \n",
       "23         grand theft auto v     x360             2013        action   \n",
       "31  call of duty: black ops 3      ps4             2015       shooter   \n",
       "33        pokemon x/pokemon y      3ds             2013  role-playing   \n",
       "42         grand theft auto v      ps4             2014        action   \n",
       "\n",
       "    na_sales  eu_sales  jp_sales  other_sales  critic_score  user_score  \\\n",
       "16      7.02      9.09      0.98         3.96          97.0         8.2   \n",
       "23      9.66      5.14      0.06         1.41          97.0         8.1   \n",
       "31      6.03      5.86      0.36         2.38           NaN         NaN   \n",
       "33      5.28      4.19      4.35         0.78           NaN         NaN   \n",
       "42      3.96      6.31      0.38         1.97          97.0         8.3   \n",
       "\n",
       "   rating  total_sales  \n",
       "16      m        21.05  \n",
       "23      m        16.27  \n",
       "31     rp        14.63  \n",
       "33     rp        14.60  \n",
       "42      m        12.62  "
      ]
     },
     "execution_count": 35,
     "metadata": {},
     "output_type": "execute_result"
    }
   ],
   "source": [
    "actual_frame.head()"
   ]
  },
  {
   "cell_type": "code",
   "execution_count": 36,
   "metadata": {
    "colab": {},
    "colab_type": "code",
    "id": "_b0MkoHtNS9E"
   },
   "outputs": [],
   "source": [
    "actual_frame_pivot_table = actual_frame.pivot_table(index = ['year_of_release','platform'], \n",
    "                                                    values = 'total_sales',\n",
    "                                                    aggfunc = 'sum')"
   ]
  },
  {
   "cell_type": "code",
   "execution_count": 37,
   "metadata": {},
   "outputs": [],
   "source": [
    "pivot_table_index = actual_frame_pivot_table.index.to_list()"
   ]
  },
  {
   "cell_type": "code",
   "execution_count": 38,
   "metadata": {
    "scrolled": true
   },
   "outputs": [],
   "source": [
    "actual_frame_pivot_table[\"years\"] = [year for year, platform in pivot_table_index]"
   ]
  },
  {
   "cell_type": "code",
   "execution_count": 39,
   "metadata": {},
   "outputs": [],
   "source": [
    "actual_frame_pivot_table.index = [platform for year, platform in pivot_table_index]"
   ]
  },
  {
   "cell_type": "code",
   "execution_count": 40,
   "metadata": {},
   "outputs": [
    {
     "data": {
      "text/html": [
       "<div>\n",
       "<style scoped>\n",
       "    .dataframe tbody tr th:only-of-type {\n",
       "        vertical-align: middle;\n",
       "    }\n",
       "\n",
       "    .dataframe tbody tr th {\n",
       "        vertical-align: top;\n",
       "    }\n",
       "\n",
       "    .dataframe thead th {\n",
       "        text-align: right;\n",
       "    }\n",
       "</style>\n",
       "<table border=\"1\" class=\"dataframe\">\n",
       "  <thead>\n",
       "    <tr style=\"text-align: right;\">\n",
       "      <th></th>\n",
       "      <th>total_sales</th>\n",
       "      <th>years</th>\n",
       "    </tr>\n",
       "  </thead>\n",
       "  <tbody>\n",
       "    <tr>\n",
       "      <td>3ds</td>\n",
       "      <td>56.57</td>\n",
       "      <td>2013</td>\n",
       "    </tr>\n",
       "    <tr>\n",
       "      <td>ds</td>\n",
       "      <td>1.54</td>\n",
       "      <td>2013</td>\n",
       "    </tr>\n",
       "    <tr>\n",
       "      <td>pc</td>\n",
       "      <td>12.38</td>\n",
       "      <td>2013</td>\n",
       "    </tr>\n",
       "    <tr>\n",
       "      <td>ps3</td>\n",
       "      <td>113.25</td>\n",
       "      <td>2013</td>\n",
       "    </tr>\n",
       "    <tr>\n",
       "      <td>ps4</td>\n",
       "      <td>25.99</td>\n",
       "      <td>2013</td>\n",
       "    </tr>\n",
       "    <tr>\n",
       "      <td>psp</td>\n",
       "      <td>3.14</td>\n",
       "      <td>2013</td>\n",
       "    </tr>\n",
       "    <tr>\n",
       "      <td>psv</td>\n",
       "      <td>10.59</td>\n",
       "      <td>2013</td>\n",
       "    </tr>\n",
       "    <tr>\n",
       "      <td>wii</td>\n",
       "      <td>8.59</td>\n",
       "      <td>2013</td>\n",
       "    </tr>\n",
       "    <tr>\n",
       "      <td>wiiu</td>\n",
       "      <td>21.65</td>\n",
       "      <td>2013</td>\n",
       "    </tr>\n",
       "    <tr>\n",
       "      <td>x360</td>\n",
       "      <td>88.58</td>\n",
       "      <td>2013</td>\n",
       "    </tr>\n",
       "    <tr>\n",
       "      <td>xone</td>\n",
       "      <td>18.96</td>\n",
       "      <td>2013</td>\n",
       "    </tr>\n",
       "    <tr>\n",
       "      <td>3ds</td>\n",
       "      <td>43.76</td>\n",
       "      <td>2014</td>\n",
       "    </tr>\n",
       "    <tr>\n",
       "      <td>pc</td>\n",
       "      <td>13.28</td>\n",
       "      <td>2014</td>\n",
       "    </tr>\n",
       "    <tr>\n",
       "      <td>ps3</td>\n",
       "      <td>47.76</td>\n",
       "      <td>2014</td>\n",
       "    </tr>\n",
       "    <tr>\n",
       "      <td>ps4</td>\n",
       "      <td>100.00</td>\n",
       "      <td>2014</td>\n",
       "    </tr>\n",
       "    <tr>\n",
       "      <td>psp</td>\n",
       "      <td>0.24</td>\n",
       "      <td>2014</td>\n",
       "    </tr>\n",
       "    <tr>\n",
       "      <td>psv</td>\n",
       "      <td>11.90</td>\n",
       "      <td>2014</td>\n",
       "    </tr>\n",
       "    <tr>\n",
       "      <td>wii</td>\n",
       "      <td>3.75</td>\n",
       "      <td>2014</td>\n",
       "    </tr>\n",
       "    <tr>\n",
       "      <td>wiiu</td>\n",
       "      <td>22.03</td>\n",
       "      <td>2014</td>\n",
       "    </tr>\n",
       "    <tr>\n",
       "      <td>x360</td>\n",
       "      <td>34.74</td>\n",
       "      <td>2014</td>\n",
       "    </tr>\n",
       "    <tr>\n",
       "      <td>xone</td>\n",
       "      <td>54.07</td>\n",
       "      <td>2014</td>\n",
       "    </tr>\n",
       "    <tr>\n",
       "      <td>3ds</td>\n",
       "      <td>27.78</td>\n",
       "      <td>2015</td>\n",
       "    </tr>\n",
       "    <tr>\n",
       "      <td>pc</td>\n",
       "      <td>8.52</td>\n",
       "      <td>2015</td>\n",
       "    </tr>\n",
       "    <tr>\n",
       "      <td>ps3</td>\n",
       "      <td>16.82</td>\n",
       "      <td>2015</td>\n",
       "    </tr>\n",
       "    <tr>\n",
       "      <td>ps4</td>\n",
       "      <td>118.90</td>\n",
       "      <td>2015</td>\n",
       "    </tr>\n",
       "    <tr>\n",
       "      <td>psp</td>\n",
       "      <td>0.12</td>\n",
       "      <td>2015</td>\n",
       "    </tr>\n",
       "    <tr>\n",
       "      <td>psv</td>\n",
       "      <td>6.25</td>\n",
       "      <td>2015</td>\n",
       "    </tr>\n",
       "    <tr>\n",
       "      <td>wii</td>\n",
       "      <td>1.14</td>\n",
       "      <td>2015</td>\n",
       "    </tr>\n",
       "    <tr>\n",
       "      <td>wiiu</td>\n",
       "      <td>16.35</td>\n",
       "      <td>2015</td>\n",
       "    </tr>\n",
       "    <tr>\n",
       "      <td>x360</td>\n",
       "      <td>11.96</td>\n",
       "      <td>2015</td>\n",
       "    </tr>\n",
       "    <tr>\n",
       "      <td>xone</td>\n",
       "      <td>60.14</td>\n",
       "      <td>2015</td>\n",
       "    </tr>\n",
       "    <tr>\n",
       "      <td>3ds</td>\n",
       "      <td>15.14</td>\n",
       "      <td>2016</td>\n",
       "    </tr>\n",
       "    <tr>\n",
       "      <td>pc</td>\n",
       "      <td>5.25</td>\n",
       "      <td>2016</td>\n",
       "    </tr>\n",
       "    <tr>\n",
       "      <td>ps3</td>\n",
       "      <td>3.60</td>\n",
       "      <td>2016</td>\n",
       "    </tr>\n",
       "    <tr>\n",
       "      <td>ps4</td>\n",
       "      <td>69.25</td>\n",
       "      <td>2016</td>\n",
       "    </tr>\n",
       "    <tr>\n",
       "      <td>psv</td>\n",
       "      <td>4.25</td>\n",
       "      <td>2016</td>\n",
       "    </tr>\n",
       "    <tr>\n",
       "      <td>wii</td>\n",
       "      <td>0.18</td>\n",
       "      <td>2016</td>\n",
       "    </tr>\n",
       "    <tr>\n",
       "      <td>wiiu</td>\n",
       "      <td>4.60</td>\n",
       "      <td>2016</td>\n",
       "    </tr>\n",
       "    <tr>\n",
       "      <td>x360</td>\n",
       "      <td>1.52</td>\n",
       "      <td>2016</td>\n",
       "    </tr>\n",
       "    <tr>\n",
       "      <td>xone</td>\n",
       "      <td>26.15</td>\n",
       "      <td>2016</td>\n",
       "    </tr>\n",
       "  </tbody>\n",
       "</table>\n",
       "</div>"
      ],
      "text/plain": [
       "      total_sales  years\n",
       "3ds         56.57   2013\n",
       "ds           1.54   2013\n",
       "pc          12.38   2013\n",
       "ps3        113.25   2013\n",
       "ps4         25.99   2013\n",
       "psp          3.14   2013\n",
       "psv         10.59   2013\n",
       "wii          8.59   2013\n",
       "wiiu        21.65   2013\n",
       "x360        88.58   2013\n",
       "xone        18.96   2013\n",
       "3ds         43.76   2014\n",
       "pc          13.28   2014\n",
       "ps3         47.76   2014\n",
       "ps4        100.00   2014\n",
       "psp          0.24   2014\n",
       "psv         11.90   2014\n",
       "wii          3.75   2014\n",
       "wiiu        22.03   2014\n",
       "x360        34.74   2014\n",
       "xone        54.07   2014\n",
       "3ds         27.78   2015\n",
       "pc           8.52   2015\n",
       "ps3         16.82   2015\n",
       "ps4        118.90   2015\n",
       "psp          0.12   2015\n",
       "psv          6.25   2015\n",
       "wii          1.14   2015\n",
       "wiiu        16.35   2015\n",
       "x360        11.96   2015\n",
       "xone        60.14   2015\n",
       "3ds         15.14   2016\n",
       "pc           5.25   2016\n",
       "ps3          3.60   2016\n",
       "ps4         69.25   2016\n",
       "psv          4.25   2016\n",
       "wii          0.18   2016\n",
       "wiiu         4.60   2016\n",
       "x360         1.52   2016\n",
       "xone        26.15   2016"
      ]
     },
     "execution_count": 40,
     "metadata": {},
     "output_type": "execute_result"
    }
   ],
   "source": [
    "actual_frame_pivot_table"
   ]
  },
  {
   "cell_type": "code",
   "execution_count": 41,
   "metadata": {
    "colab": {
     "base_uri": "https://localhost:8080/",
     "height": 287
    },
    "colab_type": "code",
    "id": "aRl0YyDOQI-Q",
    "outputId": "5d27a5da-de66-4d05-a6cb-16d0c27c67a0",
    "scrolled": true
   },
   "outputs": [
    {
     "data": {
      "image/png": "[encoded data removed]",
      "text/plain": [
       "<Figure size 720x360 with 1 Axes>"
      ]
     },
     "metadata": {
      "needs_background": "light"
     },
     "output_type": "display_data"
    }
   ],
   "source": [
    "fig, ax = plt.subplots(figsize =(10,5))\n",
    "for platform in actual_frame_pivot_table.index:\n",
    "    ax.plot(actual_frame_pivot_table.loc[platform]['years'],\n",
    "            actual_frame_pivot_table.loc[platform]['total_sales'])\n",
    "ax.legend(actual_frame_pivot_table.index.unique(),prop = {'size':10})\n",
    "plt.show()"
   ]
  },
  {
   "cell_type": "markdown",
   "metadata": {
    "colab_type": "text",
    "id": "NQbaRq_I7663"
   },
   "source": [
    "\n",
    "По данным видно, что практически все платформы находятся в стадии снижения показателя по продажам  Однако, можно выделить платформу ps3 и ps4, которая на протяжении первой половины актуального периода они активно растут, но после 2015 года начинают сдавать позиции. Так же мы можем наблюдать падение продаж ps4, причиной этому стал анонс ps4 про в 2016 году, поэтому не удивительно, что продажи на таких консолях как ps4 снизились. Потенциально прибыльными могут стать xone, wiiu, pc"
   ]
  },
  {
   "cell_type": "code",
   "execution_count": 42,
   "metadata": {
    "colab": {
     "base_uri": "https://localhost:8080/",
     "height": 292
    },
    "colab_type": "code",
    "id": "56_xaPZ-R7MO",
    "outputId": "737c30af-6abf-49ea-bb35-413036940d88"
   },
   "outputs": [
    {
     "data": {
      "text/plain": [
       "<matplotlib.axes._subplots.AxesSubplot at 0x7f018d14c110>"
      ]
     },
     "execution_count": 42,
     "metadata": {},
     "output_type": "execute_result"
    },
    {
     "data": {
      "image/png": "[encoded data removed]",
      "text/plain": [
       "<Figure size 1080x360 with 1 Axes>"
      ]
     },
     "metadata": {
      "needs_background": "light"
     },
     "output_type": "display_data"
    }
   ],
   "source": [
    "top_quantile = actual_frame['total_sales'].quantile(0.75)\n",
    "low_quantile = actual_frame['total_sales'].quantile(0.25)\n",
    "threshold = top_quantile + 2*low_quantile\n",
    "fig, ax = plt.subplots(figsize =(15,5))\n",
    "sns.boxplot(x = 'platform', \n",
    "            y = 'total_sales',\n",
    "            data = actual_frame.query('total_sales <= @threshold'),ax=ax)  \n",
    "  "
   ]
  },
  {
   "cell_type": "markdown",
   "metadata": {
    "colab_type": "text",
    "id": "BXCb5SAHS4pJ"
   },
   "source": [
    "Заметим, что у платформ ps4, ps3  и wii большая часть значений больше медианного. Наиболее равномерно распределены значения у платформы xone, ds"
   ]
  },
  {
   "cell_type": "code",
   "execution_count": 43,
   "metadata": {
    "colab": {},
    "colab_type": "code",
    "id": "5LPVcDqCNF0U"
   },
   "outputs": [],
   "source": [
    "genre_analysis_pivot_table = actual_frame.groupby('genre').agg({'name':'count','total_sales':['median','sum']})"
   ]
  },
  {
   "cell_type": "code",
   "execution_count": 44,
   "metadata": {
    "colab": {},
    "colab_type": "code",
    "id": "q7Wtfmx8DUX9"
   },
   "outputs": [],
   "source": [
    "genre_analysis_pivot_table.columns = ['count', 'median','sum']"
   ]
  },
  {
   "cell_type": "code",
   "execution_count": 45,
   "metadata": {
    "colab": {},
    "colab_type": "code",
    "id": "wAYXgCdACoz-"
   },
   "outputs": [],
   "source": [
    "genre_analysis_pivot_table = genre_analysis_pivot_table.sort_values(by = 'sum', ascending = False)"
   ]
  },
  {
   "cell_type": "code",
   "execution_count": 46,
   "metadata": {
    "scrolled": true
   },
   "outputs": [
    {
     "data": {
      "text/html": [
       "<div>\n",
       "<style scoped>\n",
       "    .dataframe tbody tr th:only-of-type {\n",
       "        vertical-align: middle;\n",
       "    }\n",
       "\n",
       "    .dataframe tbody tr th {\n",
       "        vertical-align: top;\n",
       "    }\n",
       "\n",
       "    .dataframe thead th {\n",
       "        text-align: right;\n",
       "    }\n",
       "</style>\n",
       "<table border=\"1\" class=\"dataframe\">\n",
       "  <thead>\n",
       "    <tr style=\"text-align: right;\">\n",
       "      <th></th>\n",
       "      <th>count</th>\n",
       "      <th>median</th>\n",
       "      <th>sum</th>\n",
       "    </tr>\n",
       "    <tr>\n",
       "      <th>genre</th>\n",
       "      <th></th>\n",
       "      <th></th>\n",
       "      <th></th>\n",
       "    </tr>\n",
       "  </thead>\n",
       "  <tbody>\n",
       "    <tr>\n",
       "      <td>action</td>\n",
       "      <td>766</td>\n",
       "      <td>0.110</td>\n",
       "      <td>321.87</td>\n",
       "    </tr>\n",
       "    <tr>\n",
       "      <td>shooter</td>\n",
       "      <td>187</td>\n",
       "      <td>0.450</td>\n",
       "      <td>232.98</td>\n",
       "    </tr>\n",
       "    <tr>\n",
       "      <td>sports</td>\n",
       "      <td>214</td>\n",
       "      <td>0.240</td>\n",
       "      <td>150.65</td>\n",
       "    </tr>\n",
       "    <tr>\n",
       "      <td>role-playing</td>\n",
       "      <td>292</td>\n",
       "      <td>0.125</td>\n",
       "      <td>145.89</td>\n",
       "    </tr>\n",
       "    <tr>\n",
       "      <td>misc</td>\n",
       "      <td>155</td>\n",
       "      <td>0.100</td>\n",
       "      <td>62.82</td>\n",
       "    </tr>\n",
       "    <tr>\n",
       "      <td>platform</td>\n",
       "      <td>74</td>\n",
       "      <td>0.225</td>\n",
       "      <td>42.63</td>\n",
       "    </tr>\n",
       "    <tr>\n",
       "      <td>racing</td>\n",
       "      <td>85</td>\n",
       "      <td>0.120</td>\n",
       "      <td>39.89</td>\n",
       "    </tr>\n",
       "    <tr>\n",
       "      <td>fighting</td>\n",
       "      <td>80</td>\n",
       "      <td>0.125</td>\n",
       "      <td>35.31</td>\n",
       "    </tr>\n",
       "    <tr>\n",
       "      <td>adventure</td>\n",
       "      <td>245</td>\n",
       "      <td>0.030</td>\n",
       "      <td>23.64</td>\n",
       "    </tr>\n",
       "    <tr>\n",
       "      <td>simulation</td>\n",
       "      <td>62</td>\n",
       "      <td>0.100</td>\n",
       "      <td>21.76</td>\n",
       "    </tr>\n",
       "    <tr>\n",
       "      <td>strategy</td>\n",
       "      <td>56</td>\n",
       "      <td>0.080</td>\n",
       "      <td>10.08</td>\n",
       "    </tr>\n",
       "    <tr>\n",
       "      <td>puzzle</td>\n",
       "      <td>17</td>\n",
       "      <td>0.060</td>\n",
       "      <td>3.17</td>\n",
       "    </tr>\n",
       "  </tbody>\n",
       "</table>\n",
       "</div>"
      ],
      "text/plain": [
       "              count  median     sum\n",
       "genre                              \n",
       "action          766   0.110  321.87\n",
       "shooter         187   0.450  232.98\n",
       "sports          214   0.240  150.65\n",
       "role-playing    292   0.125  145.89\n",
       "misc            155   0.100   62.82\n",
       "platform         74   0.225   42.63\n",
       "racing           85   0.120   39.89\n",
       "fighting         80   0.125   35.31\n",
       "adventure       245   0.030   23.64\n",
       "simulation       62   0.100   21.76\n",
       "strategy         56   0.080   10.08\n",
       "puzzle           17   0.060    3.17"
      ]
     },
     "execution_count": 46,
     "metadata": {},
     "output_type": "execute_result"
    }
   ],
   "source": [
    "genre_analysis_pivot_table"
   ]
  },
  {
   "cell_type": "markdown",
   "metadata": {},
   "source": [
    "Можно заметить, что не всегда количество игр жанра гарантирует хорошие продажи, например, в жанре adventure выпущено много игр, но они имеют очень маленькое медианное значение продаж. Так же можно увидеть, что существуют обратные случаи, когда медианное значение продаж приближается к максимальному, среди всех жанров, но количество игр очень маленькое, примером может служить жанр simulation. Если рассматривать только самые прибыльные жанры, то можно заметить, что в них сочетаются два параметра, у них большое количество игр и высокое медианное значение."
   ]
  },
  {
   "cell_type": "code",
   "execution_count": 47,
   "metadata": {
    "colab": {
     "base_uri": "https://localhost:8080/",
     "height": 338
    },
    "colab_type": "code",
    "id": "QxuQLZeqKRGE",
    "outputId": "8edb1290-bd80-4451-dc6d-ca92279cc3cc",
    "scrolled": false
   },
   "outputs": [
    {
     "data": {
      "text/plain": [
       "<matplotlib.collections.PathCollection at 0x7f018d1323d0>"
      ]
     },
     "execution_count": 47,
     "metadata": {},
     "output_type": "execute_result"
    },
    {
     "data": {
      "image/png": "[encoded data removed]",
      "text/plain": [
       "<Figure size 1440x504 with 2 Axes>"
      ]
     },
     "metadata": {
      "needs_background": "light"
     },
     "output_type": "display_data"
    }
   ],
   "source": [
    "\n",
    "fig_scatter, (scatter_ax,scatter_ax2) = plt.subplots(2,1, figsize = (20,7))\n",
    "scatter_ax.scatter(y= 'critic_score', x = 'total_sales',data =actual_frame.query('platform == \"ps4\"').dropna())\n",
    "scatter_ax2.scatter(y= 'user_score', x = 'total_sales',data =actual_frame.query('platform == \"ps4\"').dropna())"
   ]
  },
  {
   "cell_type": "markdown",
   "metadata": {},
   "source": [
    "На графике видно, что корреляция между продажами и оценкой критиков сильнее"
   ]
  },
  {
   "cell_type": "code",
   "execution_count": 48,
   "metadata": {
    "colab": {},
    "colab_type": "code",
    "id": "okywvZ5yWYxj"
   },
   "outputs": [],
   "source": [
    "ps4_critic_score = actual_frame.query('platform == \"ps3\"')['critic_score']\n",
    "ps4_user_score = actual_frame.query('platform == \"ps3\"')['user_score']\n",
    "ps4_total_sales = actual_frame.query('platform == \"ps3\"')['total_sales']"
   ]
  },
  {
   "cell_type": "code",
   "execution_count": 49,
   "metadata": {
    "colab": {
     "base_uri": "https://localhost:8080/",
     "height": 52
    },
    "colab_type": "code",
    "id": "ylAOM66RXDAX",
    "outputId": "10c4b4bf-8a46-4c10-e304-2cfc0b7c2f04"
   },
   "outputs": [
    {
     "name": "stdout",
     "output_type": "stream",
     "text": [
      "0.3342853393371919\n",
      "0.0023944027357566925\n"
     ]
    }
   ],
   "source": [
    "print(ps4_critic_score.corr(ps4_total_sales))\n",
    "print(ps4_user_score.corr(ps4_total_sales))"
   ]
  },
  {
   "cell_type": "markdown",
   "metadata": {
    "colab_type": "text",
    "id": "b0w9am4hbiPc"
   },
   "source": [
    "Заметим, что между пользовательской оценкой и продажами есть корреляция, но она небольшая, до 1 процента. В то время как корреляция с оценками критиков достаточно большая, около 33 - 40%.\n",
    "Это логично, так как если оценки критиков у фильмов хорошие, то большое количество людей решат пойти на него"
   ]
  },
  {
   "cell_type": "markdown",
   "metadata": {},
   "source": [
    "Заполним пропуски"
   ]
  },
  {
   "cell_type": "code",
   "execution_count": 50,
   "metadata": {},
   "outputs": [
    {
     "name": "stderr",
     "output_type": "stream",
     "text": [
      "/opt/conda/lib/python3.7/site-packages/pandas/core/frame.py:3494: SettingWithCopyWarning: \n",
      "A value is trying to be set on a copy of a slice from a DataFrame.\n",
      "Try using .loc[row_indexer,col_indexer] = value instead\n",
      "\n",
      "See the caveats in the documentation: http://pandas.pydata.org/pandas-docs/stable/user_guide/indexing.html#returning-a-view-versus-a-copy\n",
      "  self[k1] = value[k2]\n"
     ]
    }
   ],
   "source": [
    "actual_genre_pivot_table = actual_frame.pivot_table(index = 'genre',\n",
    "                                             values = [\"critic_score\",\"user_score\"],\n",
    "                                             aggfunc = ['median'])\n",
    "actual_genre_pivot_table.columns = ['critic_score','user_score']\n",
    "\n",
    "actual_frame[['critic_score','user_score']] = actual_frame['genre'].apply(\n",
    "    lambda genre: actual_genre_pivot_table.loc[genre])\n"
   ]
  },
  {
   "cell_type": "code",
   "execution_count": 51,
   "metadata": {
    "scrolled": true
   },
   "outputs": [
    {
     "data": {
      "text/plain": [
       "<matplotlib.collections.PathCollection at 0x7f018fda9110>"
      ]
     },
     "execution_count": 51,
     "metadata": {},
     "output_type": "execute_result"
    },
    {
     "data": {
      "image/png": "[encoded data removed]",
      "text/plain": [
       "<Figure size 1440x504 with 2 Axes>"
      ]
     },
     "metadata": {
      "needs_background": "light"
     },
     "output_type": "display_data"
    }
   ],
   "source": [
    "fig_scatter, (scatter_ax,scatter_ax2) = plt.subplots(2,1, figsize = (20,7))\n",
    "scatter_ax.scatter(y= 'critic_score', x = 'total_sales',data =actual_frame.query('platform == \"ps4\"'))\n",
    "scatter_ax2.scatter(y= 'user_score', x = 'total_sales',data =actual_frame.query('platform == \"ps4\"'))"
   ]
  },
  {
   "cell_type": "markdown",
   "metadata": {},
   "source": [
    "Распределение стало более упорядоченным, пропало большое количество около нулевых значений\n"
   ]
  },
  {
   "cell_type": "code",
   "execution_count": 52,
   "metadata": {},
   "outputs": [
    {
     "name": "stdout",
     "output_type": "stream",
     "text": [
      "0.08311895345001873\n",
      "-0.0948707258932652\n"
     ]
    }
   ],
   "source": [
    "ps4_critic_score_without_outliers = actual_frame.query('platform == \"ps3\"')['critic_score']\n",
    "ps4_user_score_without_outliers = actual_frame.query('platform == \"ps3\"')['user_score']\n",
    "ps4_total_sales_without_outliers = actual_frame.query('platform == \"ps3\"')['total_sales']\n",
    "\n",
    "print(ps4_critic_score_without_outliers.corr(ps4_total_sales_without_outliers))\n",
    "print(ps4_user_score_without_outliers.corr(ps4_total_sales_without_outliers))"
   ]
  },
  {
   "cell_type": "markdown",
   "metadata": {},
   "source": [
    "После заполнения пропусков, доля корреляции сильно упала, а в случае с оценкой пользователей - стала отрицательной"
   ]
  },
  {
   "cell_type": "markdown",
   "metadata": {
    "colab_type": "text",
    "id": "f0gFVMQJfEXo"
   },
   "source": [
    "## Займемся составлением портрета пользователя"
   ]
  },
  {
   "cell_type": "code",
   "execution_count": 53,
   "metadata": {
    "colab": {},
    "colab_type": "code",
    "id": "iGV7wLJyNf54"
   },
   "outputs": [],
   "source": [
    "rating_pivot_table = actual_frame.pivot_table(index = 'platform', values = ['na_sales','jp_sales','eu_sales'], aggfunc = ['sum'])"
   ]
  },
  {
   "cell_type": "code",
   "execution_count": 54,
   "metadata": {
    "colab": {},
    "colab_type": "code",
    "id": "4-UEH4w1gX-v"
   },
   "outputs": [],
   "source": [
    "rating_pivot_table.columns = ['na_sales','jp_sales','eu_sales']"
   ]
  },
  {
   "cell_type": "code",
   "execution_count": 55,
   "metadata": {
    "colab": {},
    "colab_type": "code",
    "id": "k-NQAIOsgZ2w"
   },
   "outputs": [],
   "source": [
    "top5_eu = rating_pivot_table.sort_values(by = 'eu_sales', ascending = False).index[:5]\n",
    "top5_jp = rating_pivot_table.sort_values(by = 'jp_sales', ascending = False).index[:5]\n",
    "top5_na = rating_pivot_table.sort_values(by = 'na_sales', ascending = False).index[:5]"
   ]
  },
  {
   "cell_type": "code",
   "execution_count": 56,
   "metadata": {
    "colab": {
     "base_uri": "https://localhost:8080/",
     "height": 901
    },
    "colab_type": "code",
    "id": "a1Wh6neje_YS",
    "outputId": "a7b6886d-3a85-41cc-b7d1-27b77f84d40c"
   },
   "outputs": [
    {
     "name": "stdout",
     "output_type": "stream",
     "text": [
      "Топ платформ для европейского региона: ps4 xone x360 ps3 3ds\n",
      "\n",
      "Рассмотрим подробнее следующую платформу:  ps4\n",
      "Доля продаж 0.40911998194062954\n",
      "\n",
      "Рассмотрим подробнее следующую платформу:  xone\n",
      "Доля продаж 0.6419855222337125\n",
      "\n",
      "Рассмотрим подробнее следующую платформу:  x360\n",
      "Доля продаж 0.6549041623225601\n",
      "\n",
      "Рассмотрим подробнее следующую платформу:  ps3\n",
      "Доля продаж 0.4105780421569894\n",
      "\n",
      "Рассмотрим подробнее следующую платформу:  3ds\n",
      "Доля продаж 0.27889318828940624\n",
      "\n",
      "Топ платформ для японского региона: 3ds ps3 psv ps4 wiiu\n",
      "\n",
      "Рассмотрим подробнее следующую платформу:  3ds\n",
      "Доля продаж 0.4950719135577135\n",
      "\n",
      "Рассмотрим подробнее следующую платформу:  ps3\n",
      "Доля продаж 0.15097633518686143\n",
      "\n",
      "Рассмотрим подробнее следующую платформу:  psv\n",
      "Доля продаж 0.6252943155062242\n",
      "\n",
      "Рассмотрим подробнее следующую платформу:  ps4\n",
      "Доля продаж 0.06004740584672089\n",
      "\n",
      "Рассмотрим подробнее следующую платформу:  wiiu\n",
      "Доля продаж 0.18151484818151464\n",
      "\n",
      "Топ платформ для сверо американского региона: ps4 ps3 xone x360 3ds\n",
      "\n",
      "Рассмотрим подробнее следующую платформу:  ps4\n",
      "Доля продаж 0.5308326122126494\n",
      "\n",
      "Рассмотрим подробнее следующую платформу:  ps3\n",
      "Доля продаж 0.43844562265614906\n",
      "\n",
      "Рассмотрим подробнее следующую платформу:  xone\n",
      "Доля продаж 0.355670458462599\n",
      "\n",
      "Рассмотрим подробнее следующую платформу:  x360\n",
      "Доля продаж 0.3410056941214211\n",
      "\n",
      "Рассмотрим подробнее следующую платформу:  3ds\n",
      "Доля продаж 0.22603489815288028\n",
      "\n"
     ]
    }
   ],
   "source": [
    "list_of_top = [top5_eu,top5_jp,top5_na]\n",
    "for count,top in enumerate(list_of_top):\n",
    "    if count == 0: \n",
    "        print('Топ платформ для европейского региона:',*top)\n",
    "    elif count == 1:\n",
    "        print('Топ платформ для японского региона:',*top)\n",
    "    elif count == 2:\n",
    "        print('Топ платформ для сверо американского региона:',*top)\n",
    "    print()\n",
    "    for platform in top:\n",
    "        data = rating_pivot_table.loc[platform,['na_sales','jp_sales','eu_sales']]\n",
    "        if count == 0: \n",
    "            part = data['eu_sales']\n",
    "        elif count == 1:\n",
    "            part = data['jp_sales']\n",
    "        elif count == 2:\n",
    "            part = data['na_sales']\n",
    "        ratio = part / sum(data)\n",
    "        print('Рассмотрим подробнее следующую платформу: ',platform)\n",
    "        print('Доля продаж',ratio)\n",
    "        print()"
   ]
  },
  {
   "cell_type": "markdown",
   "metadata": {
    "colab_type": "text",
    "id": "NiQgEd9Fg_uG"
   },
   "source": [
    "Заметим, что на большинстве платформ лидирует европейский регион"
   ]
  },
  {
   "cell_type": "markdown",
   "metadata": {
    "colab_type": "text",
    "id": "dyPu9rhIm6DC"
   },
   "source": [
    "Выделим лидирующий жанр"
   ]
  },
  {
   "cell_type": "code",
   "execution_count": 57,
   "metadata": {
    "colab": {},
    "colab_type": "code",
    "id": "By4KJagjhIrj"
   },
   "outputs": [],
   "source": [
    "top_genre_pivot_table = actual_frame.pivot_table(index = ['genre'], values = ['na_sales','jp_sales','eu_sales'], aggfunc = ['sum'])"
   ]
  },
  {
   "cell_type": "code",
   "execution_count": 58,
   "metadata": {
    "colab": {},
    "colab_type": "code",
    "id": "aVs-cjfoio1Y"
   },
   "outputs": [],
   "source": [
    "top_genre_pivot_table.columns = ['na_sales','jp_sales','eu_sales']"
   ]
  },
  {
   "cell_type": "code",
   "execution_count": 59,
   "metadata": {
    "colab": {},
    "colab_type": "code",
    "id": "i576LVRiiAPP"
   },
   "outputs": [],
   "source": [
    "top5_genres_eu = top_genre_pivot_table.sort_values(by = 'eu_sales', ascending = False).index[:5]\n",
    "top5_genres_jp = top_genre_pivot_table.sort_values(by = 'jp_sales', ascending = False).index[:5]\n",
    "top5_genres_na = top_genre_pivot_table.sort_values(by = 'na_sales', ascending = False).index[:5]"
   ]
  },
  {
   "cell_type": "code",
   "execution_count": 60,
   "metadata": {
    "colab": {
     "base_uri": "https://localhost:8080/",
     "height": 69
    },
    "colab_type": "code",
    "id": "-sukw4p7iCqv",
    "outputId": "ef86e650-3125-4b7a-abd7-ca3f45bb25c7"
   },
   "outputs": [
    {
     "name": "stdout",
     "output_type": "stream",
     "text": [
      "Топ 5 самых популярных жанров в европейском регионе: action shooter sports role-playing misc\n",
      "Топ 5 самых популярных жанров в японском регионе: role-playing action misc fighting shooter\n",
      "Топ 5 самых популярных жанров в северо авереканском регионе: action shooter sports role-playing racing\n"
     ]
    }
   ],
   "source": [
    "print('Топ 5 самых популярных жанров в европейском регионе:',*top5_genres_eu)\n",
    "print('Топ 5 самых популярных жанров в японском регионе:',*top5_genres_jp)\n",
    "print('Топ 5 самых популярных жанров в северо авереканском регионе:',*top5_genres_na)"
   ]
  },
  {
   "cell_type": "code",
   "execution_count": 61,
   "metadata": {
    "colab": {},
    "colab_type": "code",
    "id": "J1Cb7ef-_07G"
   },
   "outputs": [],
   "source": [
    "esrb_pivot_table = actual_frame.pivot_table(index = ['rating'], values = ['na_sales','jp_sales','eu_sales'], aggfunc = ['sum'])"
   ]
  },
  {
   "cell_type": "code",
   "execution_count": 62,
   "metadata": {
    "colab": {
     "base_uri": "https://localhost:8080/",
     "height": 325
    },
    "colab_type": "code",
    "id": "2NGD_f8hAMCF",
    "outputId": "cb368fbe-4f44-44b6-ca03-cdaa72c840a0"
   },
   "outputs": [
    {
     "data": {
      "text/html": [
       "<div>\n",
       "<style scoped>\n",
       "    .dataframe tbody tr th:only-of-type {\n",
       "        vertical-align: middle;\n",
       "    }\n",
       "\n",
       "    .dataframe tbody tr th {\n",
       "        vertical-align: top;\n",
       "    }\n",
       "\n",
       "    .dataframe thead tr th {\n",
       "        text-align: left;\n",
       "    }\n",
       "\n",
       "    .dataframe thead tr:last-of-type th {\n",
       "        text-align: right;\n",
       "    }\n",
       "</style>\n",
       "<table border=\"1\" class=\"dataframe\">\n",
       "  <thead>\n",
       "    <tr>\n",
       "      <th></th>\n",
       "      <th colspan=\"3\" halign=\"left\">sum</th>\n",
       "    </tr>\n",
       "    <tr>\n",
       "      <th></th>\n",
       "      <th>eu_sales</th>\n",
       "      <th>jp_sales</th>\n",
       "      <th>na_sales</th>\n",
       "    </tr>\n",
       "    <tr>\n",
       "      <th>rating</th>\n",
       "      <th></th>\n",
       "      <th></th>\n",
       "      <th></th>\n",
       "    </tr>\n",
       "  </thead>\n",
       "  <tbody>\n",
       "    <tr>\n",
       "      <td>e</td>\n",
       "      <td>83.36</td>\n",
       "      <td>15.14</td>\n",
       "      <td>79.05</td>\n",
       "    </tr>\n",
       "    <tr>\n",
       "      <td>e10+</td>\n",
       "      <td>42.69</td>\n",
       "      <td>5.89</td>\n",
       "      <td>54.24</td>\n",
       "    </tr>\n",
       "    <tr>\n",
       "      <td>m</td>\n",
       "      <td>145.32</td>\n",
       "      <td>14.11</td>\n",
       "      <td>165.21</td>\n",
       "    </tr>\n",
       "    <tr>\n",
       "      <td>rp</td>\n",
       "      <td>78.91</td>\n",
       "      <td>85.05</td>\n",
       "      <td>89.42</td>\n",
       "    </tr>\n",
       "    <tr>\n",
       "      <td>t</td>\n",
       "      <td>41.95</td>\n",
       "      <td>20.59</td>\n",
       "      <td>49.79</td>\n",
       "    </tr>\n",
       "  </tbody>\n",
       "</table>\n",
       "</div>"
      ],
      "text/plain": [
       "            sum                  \n",
       "       eu_sales jp_sales na_sales\n",
       "rating                           \n",
       "e         83.36    15.14    79.05\n",
       "e10+      42.69     5.89    54.24\n",
       "m        145.32    14.11   165.21\n",
       "rp        78.91    85.05    89.42\n",
       "t         41.95    20.59    49.79"
      ]
     },
     "execution_count": 62,
     "metadata": {},
     "output_type": "execute_result"
    }
   ],
   "source": [
    "esrb_pivot_table"
   ]
  },
  {
   "cell_type": "markdown",
   "metadata": {
    "colab_type": "text",
    "id": "P9HrLPScoQsb"
   },
   "source": [
    "Да, влияет, так например у рейтинга е основная доля продаж приходит в европейском регионе, в то время как у рейтинга ес основные продажи проходят в северной Америке"
   ]
  },
  {
   "cell_type": "markdown",
   "metadata": {
    "colab_type": "text",
    "id": "su24jG1HpCYp"
   },
   "source": [
    "## Проверим гипотезы"
   ]
  },
  {
   "cell_type": "markdown",
   "metadata": {
    "colab_type": "text",
    "id": "417211kxuZye"
   },
   "source": [
    "### Гипотеза 1"
   ]
  },
  {
   "cell_type": "markdown",
   "metadata": {
    "colab_type": "text",
    "id": "NaYFNWf8jEL4"
   },
   "source": [
    "Нулевая гипотеза: Средние пользовательские рейтинги платформ Xbox One и PC одинаковые\n",
    "\n",
    "Альтернативная гипотеза : Средние пользовательские рейтинги платформ Xbox One и PC отличаются"
   ]
  },
  {
   "cell_type": "code",
   "execution_count": 63,
   "metadata": {
    "colab": {
     "base_uri": "https://localhost:8080/",
     "height": 35
    },
    "colab_type": "code",
    "id": "vpvXJfdW5YGu",
    "outputId": "d1d5ea37-fd38-4971-acc4-909756c78e20"
   },
   "outputs": [
    {
     "name": "stdout",
     "output_type": "stream",
     "text": [
      "Равны ли дисперсии двух совокупностей? True\n"
     ]
    }
   ],
   "source": [
    "xone_var = st.variation(actual_frame.query('platform == \"xone\"')['user_score'])\n",
    "pc_var = st.variation(actual_frame.query('platform == \"pc\"')['user_score'])\n",
    "print('Равны ли дисперсии двух совокупностей?',(xone_var * 0.05 < abs(xone_var - pc_var)))"
   ]
  },
  {
   "cell_type": "code",
   "execution_count": 64,
   "metadata": {
    "colab": {
     "base_uri": "https://localhost:8080/",
     "height": 52
    },
    "colab_type": "code",
    "id": "ALGt2-T6ixa-",
    "outputId": "00b41f54-8c71-4ed6-cc17-8baf140ce44d",
    "scrolled": false
   },
   "outputs": [
    {
     "name": "stdout",
     "output_type": "stream",
     "text": [
      "р-значение:  0.04872966737294334\n",
      "Отвергаем нулевую гипотезу\n"
     ]
    }
   ],
   "source": [
    "alpha = 0.05\n",
    "\n",
    "result_first = st.ttest_ind(actual_frame.query('platform == \"xone\"')['user_score'],\n",
    "                            actual_frame.query('platform == \"pc\"')['user_score'])\n",
    "\n",
    "prob_first = result_first.pvalue\n",
    "print('р-значение: ',prob_first)\n",
    "if prob_first < alpha:\n",
    "    print(\"Отвергаем нулевую гипотезу\")\n",
    "else:\n",
    "    print(\"Не получилось отвергнуть нулевую гипотезу\")"
   ]
  },
  {
   "cell_type": "markdown",
   "metadata": {},
   "source": [
    "#### Вывод"
   ]
  },
  {
   "cell_type": "markdown",
   "metadata": {
    "colab_type": "text",
    "id": "NBdALsOar1IV"
   },
   "source": [
    "Дисперсии не равны, но они отличаются меньше чем на 5%, поэтому установим equal_var=True, тест показал, что нулевая гипотеза не подтвердилась. Можем сделать вывод, что средние пользовательские рейтинги платформ Xbox One и PC отличаются"
   ]
  },
  {
   "cell_type": "markdown",
   "metadata": {
    "colab_type": "text",
    "id": "nfzT5nUTtZW-"
   },
   "source": [
    "### Гипотеза 2"
   ]
  },
  {
   "cell_type": "markdown",
   "metadata": {
    "colab_type": "text",
    "id": "Zgquz_rBlTnV"
   },
   "source": [
    "Нулевая гипотеза: Средние пользовательские рейтинги жанров Action ( и Sports  одинаковые\n",
    "\n",
    "Альтернативна гипотеза: Средние пользовательские рейтинги жанров Action  и Sports разные."
   ]
  },
  {
   "cell_type": "code",
   "execution_count": 65,
   "metadata": {
    "colab": {
     "base_uri": "https://localhost:8080/",
     "height": 35
    },
    "colab_type": "code",
    "id": "WpVJ_NEB6RZb",
    "outputId": "8c89c58d-8b05-4f02-f683-e93b72cb31b0",
    "scrolled": true
   },
   "outputs": [
    {
     "name": "stdout",
     "output_type": "stream",
     "text": [
      "Равны ли дисперсии двух совокупностей? False\n"
     ]
    }
   ],
   "source": [
    "action_var = st.variation(actual_frame.query('genre == \"action\"')['user_score'])\n",
    "sports_var = st.variation(actual_frame.query('genre == \"sports\"')['user_score'])\n",
    "print('Равны ли дисперсии двух совокупностей?',(((action_var * 0.05) < abs(action_var - sports_var))))"
   ]
  },
  {
   "cell_type": "code",
   "execution_count": 66,
   "metadata": {
    "colab": {
     "base_uri": "https://localhost:8080/",
     "height": 52
    },
    "colab_type": "code",
    "id": "3wS4IGwQku5u",
    "outputId": "f70f9282-6d11-4be4-b4e5-bfb813057f51",
    "scrolled": true
   },
   "outputs": [
    {
     "name": "stdout",
     "output_type": "stream",
     "text": [
      "р-значение:  0.04872966737294334\n",
      "Отвергаем нулевую гипотезу\n"
     ]
    }
   ],
   "source": [
    "\n",
    "\n",
    "result_second = st.ttest_ind(actual_frame.query('genre == \"action\"')['user_score'],\n",
    "                             actual_frame.query('genre == \"sports\"')['user_score'],\n",
    "                             equal_var=False)\n",
    "prob_second = result_first.pvalue\n",
    "print('р-значение: ',prob_second)\n",
    "if prob_second < alpha:\n",
    "    print(\"Отвергаем нулевую гипотезу\")\n",
    "else:\n",
    "    print(\"Не получилось отвергнуть нулевую гипотезу\")"
   ]
  },
  {
   "cell_type": "markdown",
   "metadata": {},
   "source": [
    "#### Вывод"
   ]
  },
  {
   "cell_type": "markdown",
   "metadata": {
    "colab_type": "text",
    "id": "K-tR95F-tntG"
   },
   "source": [
    "Дисперсии не равны, поэтому установим equal_var=False, тест показал, что нулевая гипотеза не подтвердилась. Можем сделать вывод, что средние пользовательские рейтинги жанров Action и Sports разные."
   ]
  },
  {
   "cell_type": "markdown",
   "metadata": {
    "colab_type": "text",
    "id": "26Jy_go7ufTl"
   },
   "source": [
    "## Вывод"
   ]
  },
  {
   "cell_type": "markdown",
   "metadata": {
    "colab_type": "text",
    "id": "jpQgQOIJujU7"
   },
   "source": [
    "Из проведенного анализы мы выяснили, самыми перспективными платформами являются xone, wiiu, pc\n",
    "\n",
    "Самыми популярными жанрами стали:\n",
    "1. В европейском регионе: action sports misc racing shooter\n",
    "1. В японском регионе: action adventure role-playing misc fighting\n",
    "1. В северо-американском регионе: action sports racing misc shooter\n",
    "\n",
    "В это же время самыми платформами стали:\n",
    "\n",
    "1. Для европейского региона: ds wii x360 ps2 xb\n",
    "1. Для японского региона: psp ds ps2 psv ps3\n",
    "1. Для северо-американского региона: ps2 ps pc x360 ps3\n",
    "\n",
    "Кроме того, мы проверили гипотезы и определили:\n",
    "\n",
    "1. Средние пользовательские рейтинги платформ Xbox One и PC отличаются\n",
    "1. Средние пользовательские рейтинги жанров Action и Sports разные.\n",
    "\n",
    "Рейтинг влияет на продажи \n",
    "\n",
    "Основываясь на всем выше перечисленном сделаем вывод, что игра имеет больше шансов на успех, если она выходит на Xbox One, а так же на платформе ps4  и новее и pc, относится к жанру action \n",
    "\n",
    "\n",
    "\n",
    "\n",
    "\n"
   ]
  }
 ],
 "metadata": {
  "colab": {
   "collapsed_sections": [],
   "name": "Yandex_Project.ipynb",
   "provenance": [],
   "toc_visible": true
  },
  "kernelspec": {
   "display_name": "Python 3",
   "language": "python",
   "name": "python3"
  },
  "language_info": {
   "codemirror_mode": {
    "name": "ipython",
    "version": 3
   },
   "file_extension": ".py",
   "mimetype": "text/x-python",
   "name": "python",
   "nbconvert_exporter": "python",
   "pygments_lexer": "ipython3",
   "version": "3.8.3"
  },
  "toc": {
   "base_numbering": 1,
   "nav_menu": {},
   "number_sections": true,
   "sideBar": true,
   "skip_h1_title": false,
   "title_cell": "Содержание",
   "title_sidebar": "Contents",
   "toc_cell": true,
   "toc_position": {},
   "toc_section_display": true,
   "toc_window_display": true
  }
 },
 "nbformat": 4,
 "nbformat_minor": 1
}
